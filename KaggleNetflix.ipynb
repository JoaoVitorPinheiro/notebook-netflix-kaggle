{
 "cells": [
  {
   "cell_type": "markdown",
   "metadata": {},
   "source": [
    "# Tarefas #\n",
    "#### 1.Função Listar todos os filmes de um país (inclusive contribuições entre países)\n",
    "#### 2.Quantas séries são exclusivamente brasileiras, argentinas, mexicanas e uruguaias\n",
    "#### 3.Listar quantos filmes são exclusivamente: brasileiros, argentinos, mexicanos e uruguaios\n",
    "#### 4.Listar o diretor brasileiro com mais recorrências em todas as categorias\n",
    "#### 5.Gráfico de barras número de lançamentos: BR X OUTROS de 2015-2020\n",
    "#### 6.Função Encontrar os 5 mais novos filmes de um país\n",
    "#### 7.Listar o diretor mundial com mais recorrências em todas as categorias"
   ]
  },
  {
   "cell_type": "markdown",
   "metadata": {},
   "source": [
    "## --- Tratamento de dados ---"
   ]
  },
  {
   "cell_type": "code",
   "execution_count": 1,
   "metadata": {},
   "outputs": [],
   "source": [
    "import matplotlib.pyplot as plt\n",
    "import numpy as np\n",
    "import pandas as pd\n",
    "import re\n",
    "from collections import namedtuple"
   ]
  },
  {
   "cell_type": "code",
   "execution_count": 2,
   "metadata": {},
   "outputs": [],
   "source": [
    "#path=\n",
    "df1 = pd.read_csv('netflix_titles.csv')"
   ]
  },
  {
   "cell_type": "markdown",
   "metadata": {},
   "source": [
    "### Funções Utilizadas"
   ]
  },
  {
   "cell_type": "markdown",
   "metadata": {},
   "source": [
    "#### Função Buscar instâncias do nome procurado em uma str"
   ]
  },
  {
   "cell_type": "code",
   "execution_count": 3,
   "metadata": {},
   "outputs": [],
   "source": [
    "def achar_palavra(palavra):\n",
    "    return re.compile(r'\\b({0})\\b'.format(palavra), flags=re.IGNORECASE).search\n",
    "# os \\b \\b indica uma palavra separada , não permitindo encontrar instâncias no meio de outras\n",
    "#Se encontrar, retorna um objeto \n",
    "#Se não, None"
   ]
  },
  {
   "cell_type": "code",
   "execution_count": 4,
   "metadata": {},
   "outputs": [
    {
     "data": {
      "text/plain": [
       "<re.Match object; span=(2, 8), match='brazil'>"
      ]
     },
     "execution_count": 4,
     "metadata": {},
     "output_type": "execute_result"
    }
   ],
   "source": [
    "achar_palavra(\"Brazil\")(\"O brazil é brazileiro\")"
   ]
  },
  {
   "cell_type": "code",
   "execution_count": 5,
   "metadata": {},
   "outputs": [],
   "source": [
    "achar_palavra(\"Brazil\")(\"O brasil é brazileiro\")\n",
    "#sem retorno"
   ]
  },
  {
   "cell_type": "markdown",
   "metadata": {},
   "source": [
    "#### Função Eliminar NaN Por Coluna"
   ]
  },
  {
   "cell_type": "code",
   "execution_count": 6,
   "metadata": {},
   "outputs": [],
   "source": [
    "def elimina_nan(df,coluna):\n",
    "#Elimina todos os NaN para a coluna selecionada  \n",
    "    df=df.dropna(axis=0,subset=[coluna])\n",
    "    df=df.reset_index(drop=True)\n",
    "    #Resetar o index é importante pra não comprometer futuras iterações no mesmo dataframe\n",
    "    return df"
   ]
  },
  {
   "cell_type": "markdown",
   "metadata": {},
   "source": [
    "#### Função Top 5 Filmes Mais Novos"
   ]
  },
  {
   "cell_type": "code",
   "execution_count": 7,
   "metadata": {},
   "outputs": [],
   "source": [
    "def top_cinco(dataset,col_ano,col_filme,pais):\n",
    "    \n",
    "    dataset=find_word(pais,dataset,list(dataset.keys())[2])\n",
    "    dataset[col_ano]=pd.to_numeric(dataset[col_ano],errors='coerce')\n",
    "    dataset = dataset.sort_values(by=[col_ano],ascending=False)\n",
    "    i=0\n",
    "    for index, row in dataset.iterrows():\n",
    "        if(i==5):\n",
    "            break;\n",
    "        print(row[col_ano],\"-\",row[col_filme])\n",
    "        i=i+1;\n",
    "    return dataset"
   ]
  },
  {
   "cell_type": "markdown",
   "metadata": {},
   "source": [
    "### 1 Função Listar todos os filmes de um país (inclusive contribuições entre países)"
   ]
  },
  {
   "cell_type": "code",
   "execution_count": 8,
   "metadata": {},
   "outputs": [],
   "source": [
    "def find_word(palavra,df,feature):\n",
    "    lista=[]\n",
    "    sublista=[]\n",
    "    df=df.dropna(axis=0,subset=[feature])\n",
    "    df=df.reset_index(drop=True)\n",
    "    #as instâncias NaN presentes no Dataframe podem gerar erros na iteração\n",
    "    i=0\n",
    "    j=0\n",
    "    for pivo in df[feature]:\n",
    "        #o pivo percorre a coluna da feature selecionada\n",
    "        if palavra in df[feature][i]:\n",
    "        #se a palavra procurada for encontrada no index i, \n",
    "        #imprimir o conteúdo e adicionar a uma lista de listas\n",
    "        \n",
    "            #print(df[feature][i])\n",
    "            \n",
    "            #Imprime cada recorrência por fins de demonstração\n",
    "            for coluna in list(df.keys()):\n",
    "                sublista.append(df[coluna][i])\n",
    "            lista.append(sublista)\n",
    "            sublista=[]\n",
    "        i=i+1\n",
    "    #Fazendo o novo df herdar as keys do df original \n",
    "    sublista=df.keys()\n",
    "    df=pd.DataFrame(lista)\n",
    "    df.columns=sublista\n",
    "    return df"
   ]
  },
  {
   "cell_type": "code",
   "execution_count": 9,
   "metadata": {},
   "outputs": [],
   "source": [
    "df_novo=find_word('Brazil',df1,df1.keys()[5]).copy()"
   ]
  },
  {
   "cell_type": "code",
   "execution_count": 10,
   "metadata": {},
   "outputs": [
    {
     "data": {
      "text/plain": [
       "show_id         object\n",
       "type            object\n",
       "title           object\n",
       "director        object\n",
       "cast            object\n",
       "country         object\n",
       "date_added      object\n",
       "release_year    object\n",
       "rating          object\n",
       "duration        object\n",
       "listed_in       object\n",
       "description     object\n",
       "dtype: object"
      ]
     },
     "execution_count": 10,
     "metadata": {},
     "output_type": "execute_result"
    }
   ],
   "source": [
    "df1.dtypes"
   ]
  },
  {
   "cell_type": "markdown",
   "metadata": {},
   "source": [
    "### 2 Quantas séries são exclusivamente: brasileiras, argentinas, mexicanas e uruguaias?"
   ]
  },
  {
   "cell_type": "code",
   "execution_count": 11,
   "metadata": {},
   "outputs": [],
   "source": [
    "df2=df1[df1['country'].isin(['Brazil','Argentina','Mexico','Uruguay'])].copy()"
   ]
  },
  {
   "cell_type": "code",
   "execution_count": 12,
   "metadata": {},
   "outputs": [],
   "source": [
    "df_series=df2[df2['type']=='TV Show'].copy()"
   ]
  },
  {
   "cell_type": "code",
   "execution_count": 13,
   "metadata": {},
   "outputs": [
    {
     "data": {
      "text/html": [
       "<div>\n",
       "<style scoped>\n",
       "    .dataframe tbody tr th:only-of-type {\n",
       "        vertical-align: middle;\n",
       "    }\n",
       "\n",
       "    .dataframe tbody tr th {\n",
       "        vertical-align: top;\n",
       "    }\n",
       "\n",
       "    .dataframe thead th {\n",
       "        text-align: right;\n",
       "    }\n",
       "</style>\n",
       "<table border=\"1\" class=\"dataframe\">\n",
       "  <thead>\n",
       "    <tr style=\"text-align: right;\">\n",
       "      <th></th>\n",
       "      <th>show_id</th>\n",
       "      <th>type</th>\n",
       "      <th>title</th>\n",
       "      <th>director</th>\n",
       "      <th>cast</th>\n",
       "      <th>country</th>\n",
       "      <th>date_added</th>\n",
       "      <th>release_year</th>\n",
       "      <th>rating</th>\n",
       "      <th>duration</th>\n",
       "      <th>listed_in</th>\n",
       "      <th>description</th>\n",
       "    </tr>\n",
       "  </thead>\n",
       "  <tbody>\n",
       "    <tr>\n",
       "      <th>0</th>\n",
       "      <td>s1</td>\n",
       "      <td>TV Show</td>\n",
       "      <td>3%</td>\n",
       "      <td>NaN</td>\n",
       "      <td>João Miguel, Bianca Comparato, Michel Gomes, R...</td>\n",
       "      <td>Brazil</td>\n",
       "      <td>August 14, 2020</td>\n",
       "      <td>2020</td>\n",
       "      <td>TV-MA</td>\n",
       "      <td>4 Seasons</td>\n",
       "      <td>International TV Shows, TV Dramas, TV Sci-Fi &amp;...</td>\n",
       "      <td>In a future where the elite inhabit an island ...</td>\n",
       "    </tr>\n",
       "    <tr>\n",
       "      <th>12</th>\n",
       "      <td>s13</td>\n",
       "      <td>TV Show</td>\n",
       "      <td>1994</td>\n",
       "      <td>Diego Enrique Osorno</td>\n",
       "      <td>NaN</td>\n",
       "      <td>Mexico</td>\n",
       "      <td>May 17, 2019</td>\n",
       "      <td>2019</td>\n",
       "      <td>TV-MA</td>\n",
       "      <td>1 Season</td>\n",
       "      <td>Crime TV Shows, Docuseries, International TV S...</td>\n",
       "      <td>Archival video and new interviews examine Mexi...</td>\n",
       "    </tr>\n",
       "    <tr>\n",
       "      <th>218</th>\n",
       "      <td>s219</td>\n",
       "      <td>TV Show</td>\n",
       "      <td>A Queen Is Born</td>\n",
       "      <td>Carla Barros</td>\n",
       "      <td>Gloria Groove, Alexia Twister</td>\n",
       "      <td>Brazil</td>\n",
       "      <td>November 11, 2020</td>\n",
       "      <td>2020</td>\n",
       "      <td>TV-14</td>\n",
       "      <td>1 Season</td>\n",
       "      <td>International TV Shows, Reality TV</td>\n",
       "      <td>Gloria Groove and Alexia Twister make drag dre...</td>\n",
       "    </tr>\n",
       "    <tr>\n",
       "      <th>322</th>\n",
       "      <td>s323</td>\n",
       "      <td>TV Show</td>\n",
       "      <td>Afronta! Facing It!</td>\n",
       "      <td>Juliana Vicente</td>\n",
       "      <td>Loo Nascimento, Ingrid Silva, Rincon Sapiência...</td>\n",
       "      <td>Brazil</td>\n",
       "      <td>October 31, 2020</td>\n",
       "      <td>2017</td>\n",
       "      <td>TV-PG</td>\n",
       "      <td>1 Season</td>\n",
       "      <td>Docuseries, International TV Shows</td>\n",
       "      <td>This docuseries spotlights Afro-Brazilian thin...</td>\n",
       "    </tr>\n",
       "    <tr>\n",
       "      <th>426</th>\n",
       "      <td>s427</td>\n",
       "      <td>TV Show</td>\n",
       "      <td>Almost Happy</td>\n",
       "      <td>Hernán Guerschuny</td>\n",
       "      <td>Sebastián Wainraich, Natalie Pérez, Santiago K...</td>\n",
       "      <td>Argentina</td>\n",
       "      <td>May 2, 2020</td>\n",
       "      <td>2020</td>\n",
       "      <td>TV-MA</td>\n",
       "      <td>1 Season</td>\n",
       "      <td>International TV Shows, Spanish-Language TV Sh...</td>\n",
       "      <td>Sebastián is a radio show host of modest fame,...</td>\n",
       "    </tr>\n",
       "    <tr>\n",
       "      <th>...</th>\n",
       "      <td>...</td>\n",
       "      <td>...</td>\n",
       "      <td>...</td>\n",
       "      <td>...</td>\n",
       "      <td>...</td>\n",
       "      <td>...</td>\n",
       "      <td>...</td>\n",
       "      <td>...</td>\n",
       "      <td>...</td>\n",
       "      <td>...</td>\n",
       "      <td>...</td>\n",
       "      <td>...</td>\n",
       "    </tr>\n",
       "    <tr>\n",
       "      <th>15171</th>\n",
       "      <td>s7384</td>\n",
       "      <td>TV Show</td>\n",
       "      <td>Vai Anitta</td>\n",
       "      <td>NaN</td>\n",
       "      <td>Anitta</td>\n",
       "      <td>Brazil</td>\n",
       "      <td>November 16, 2018</td>\n",
       "      <td>2018</td>\n",
       "      <td>TV-MA</td>\n",
       "      <td>1 Season</td>\n",
       "      <td>Docuseries, International TV Shows, Reality TV</td>\n",
       "      <td>Go behind the scenes with Brazilian pop icon A...</td>\n",
       "    </tr>\n",
       "    <tr>\n",
       "      <th>15486</th>\n",
       "      <td>s7699</td>\n",
       "      <td>TV Show</td>\n",
       "      <td>Yankee</td>\n",
       "      <td>NaN</td>\n",
       "      <td>Pablo Lyle, Ana Layevska, Leonardo Daniel, Jav...</td>\n",
       "      <td>Mexico</td>\n",
       "      <td>June 14, 2019</td>\n",
       "      <td>2019</td>\n",
       "      <td>TV-MA</td>\n",
       "      <td>1 Season</td>\n",
       "      <td>Crime TV Shows, International TV Shows, Spanis...</td>\n",
       "      <td>On the run from the police, an Arizona man cro...</td>\n",
       "    </tr>\n",
       "    <tr>\n",
       "      <th>15513</th>\n",
       "      <td>s7726</td>\n",
       "      <td>TV Show</td>\n",
       "      <td>You Cannot Hide</td>\n",
       "      <td>NaN</td>\n",
       "      <td>Blanca Soto, Eduardo Noriega, Iván Sánchez, Ma...</td>\n",
       "      <td>Mexico</td>\n",
       "      <td>October 1, 2020</td>\n",
       "      <td>2020</td>\n",
       "      <td>TV-MA</td>\n",
       "      <td>1 Season</td>\n",
       "      <td>Crime TV Shows, International TV Shows, Spanis...</td>\n",
       "      <td>A nurse and her daughter flee her husband’s dr...</td>\n",
       "    </tr>\n",
       "    <tr>\n",
       "      <th>15544</th>\n",
       "      <td>s7757</td>\n",
       "      <td>TV Show</td>\n",
       "      <td>Z4</td>\n",
       "      <td>NaN</td>\n",
       "      <td>Apollo Costa, Gabriel Santana, Matheus Lustosa...</td>\n",
       "      <td>Brazil</td>\n",
       "      <td>February 22, 2019</td>\n",
       "      <td>2018</td>\n",
       "      <td>TV-PG</td>\n",
       "      <td>2 Seasons</td>\n",
       "      <td>Kids' TV</td>\n",
       "      <td>Fading music biz veteran Zé realizes he has ju...</td>\n",
       "    </tr>\n",
       "    <tr>\n",
       "      <th>15567</th>\n",
       "      <td>s7780</td>\n",
       "      <td>TV Show</td>\n",
       "      <td>Zona Rosa</td>\n",
       "      <td>NaN</td>\n",
       "      <td>Manu NNa, Ana Julia Yeyé, Ray Contreras, Pablo...</td>\n",
       "      <td>Mexico</td>\n",
       "      <td>November 26, 2019</td>\n",
       "      <td>2019</td>\n",
       "      <td>TV-MA</td>\n",
       "      <td>1 Season</td>\n",
       "      <td>International TV Shows, Spanish-Language TV Sh...</td>\n",
       "      <td>An assortment of talent takes the stage for a ...</td>\n",
       "    </tr>\n",
       "  </tbody>\n",
       "</table>\n",
       "<p>154 rows × 12 columns</p>\n",
       "</div>"
      ],
      "text/plain": [
       "      show_id     type                title              director  \\\n",
       "0          s1  TV Show                   3%                   NaN   \n",
       "12        s13  TV Show                 1994  Diego Enrique Osorno   \n",
       "218      s219  TV Show      A Queen Is Born          Carla Barros   \n",
       "322      s323  TV Show  Afronta! Facing It!       Juliana Vicente   \n",
       "426      s427  TV Show         Almost Happy     Hernán Guerschuny   \n",
       "...       ...      ...                  ...                   ...   \n",
       "15171   s7384  TV Show           Vai Anitta                   NaN   \n",
       "15486   s7699  TV Show               Yankee                   NaN   \n",
       "15513   s7726  TV Show      You Cannot Hide                   NaN   \n",
       "15544   s7757  TV Show                   Z4                   NaN   \n",
       "15567   s7780  TV Show            Zona Rosa                   NaN   \n",
       "\n",
       "                                                    cast    country  \\\n",
       "0      João Miguel, Bianca Comparato, Michel Gomes, R...     Brazil   \n",
       "12                                                   NaN     Mexico   \n",
       "218                        Gloria Groove, Alexia Twister     Brazil   \n",
       "322    Loo Nascimento, Ingrid Silva, Rincon Sapiência...     Brazil   \n",
       "426    Sebastián Wainraich, Natalie Pérez, Santiago K...  Argentina   \n",
       "...                                                  ...        ...   \n",
       "15171                                             Anitta     Brazil   \n",
       "15486  Pablo Lyle, Ana Layevska, Leonardo Daniel, Jav...     Mexico   \n",
       "15513  Blanca Soto, Eduardo Noriega, Iván Sánchez, Ma...     Mexico   \n",
       "15544  Apollo Costa, Gabriel Santana, Matheus Lustosa...     Brazil   \n",
       "15567  Manu NNa, Ana Julia Yeyé, Ray Contreras, Pablo...     Mexico   \n",
       "\n",
       "              date_added release_year rating   duration  \\\n",
       "0        August 14, 2020         2020  TV-MA  4 Seasons   \n",
       "12          May 17, 2019         2019  TV-MA   1 Season   \n",
       "218    November 11, 2020         2020  TV-14   1 Season   \n",
       "322     October 31, 2020         2017  TV-PG   1 Season   \n",
       "426          May 2, 2020         2020  TV-MA   1 Season   \n",
       "...                  ...          ...    ...        ...   \n",
       "15171  November 16, 2018         2018  TV-MA   1 Season   \n",
       "15486      June 14, 2019         2019  TV-MA   1 Season   \n",
       "15513    October 1, 2020         2020  TV-MA   1 Season   \n",
       "15544  February 22, 2019         2018  TV-PG  2 Seasons   \n",
       "15567  November 26, 2019         2019  TV-MA   1 Season   \n",
       "\n",
       "                                               listed_in  \\\n",
       "0      International TV Shows, TV Dramas, TV Sci-Fi &...   \n",
       "12     Crime TV Shows, Docuseries, International TV S...   \n",
       "218                   International TV Shows, Reality TV   \n",
       "322                   Docuseries, International TV Shows   \n",
       "426    International TV Shows, Spanish-Language TV Sh...   \n",
       "...                                                  ...   \n",
       "15171     Docuseries, International TV Shows, Reality TV   \n",
       "15486  Crime TV Shows, International TV Shows, Spanis...   \n",
       "15513  Crime TV Shows, International TV Shows, Spanis...   \n",
       "15544                                           Kids' TV   \n",
       "15567  International TV Shows, Spanish-Language TV Sh...   \n",
       "\n",
       "                                             description  \n",
       "0      In a future where the elite inhabit an island ...  \n",
       "12     Archival video and new interviews examine Mexi...  \n",
       "218    Gloria Groove and Alexia Twister make drag dre...  \n",
       "322    This docuseries spotlights Afro-Brazilian thin...  \n",
       "426    Sebastián is a radio show host of modest fame,...  \n",
       "...                                                  ...  \n",
       "15171  Go behind the scenes with Brazilian pop icon A...  \n",
       "15486  On the run from the police, an Arizona man cro...  \n",
       "15513  A nurse and her daughter flee her husband’s dr...  \n",
       "15544  Fading music biz veteran Zé realizes he has ju...  \n",
       "15567  An assortment of talent takes the stage for a ...  \n",
       "\n",
       "[154 rows x 12 columns]"
      ]
     },
     "execution_count": 13,
     "metadata": {},
     "output_type": "execute_result"
    }
   ],
   "source": [
    "df_series"
   ]
  },
  {
   "cell_type": "code",
   "execution_count": 14,
   "metadata": {},
   "outputs": [
    {
     "data": {
      "text/plain": [
       "77"
      ]
     },
     "execution_count": 14,
     "metadata": {},
     "output_type": "execute_result"
    }
   ],
   "source": [
    "df_series['show_id'].unique().shape[0]"
   ]
  },
  {
   "cell_type": "markdown",
   "metadata": {},
   "source": [
    "### 3 Listar quantos filmes são exclusivamente: brasileiros, argentinos, mexicanos e uruguaios."
   ]
  },
  {
   "cell_type": "code",
   "execution_count": 15,
   "metadata": {},
   "outputs": [],
   "source": [
    "df2=df2[df2['type']=='Movie']"
   ]
  },
  {
   "cell_type": "code",
   "execution_count": 16,
   "metadata": {},
   "outputs": [],
   "source": [
    "lista_paises=list(df2['country'].unique())"
   ]
  },
  {
   "cell_type": "code",
   "execution_count": 17,
   "metadata": {},
   "outputs": [
    {
     "data": {
      "text/plain": [
       "['Mexico', 'Argentina', 'Brazil', 'Uruguay']"
      ]
     },
     "execution_count": 17,
     "metadata": {},
     "output_type": "execute_result"
    }
   ],
   "source": [
    "lista_paises"
   ]
  },
  {
   "cell_type": "code",
   "execution_count": 18,
   "metadata": {},
   "outputs": [],
   "source": [
    "filmes=sorted([(df2[df2['country']==pais].shape[0],pais) for pais in lista_paises])"
   ]
  },
  {
   "cell_type": "code",
   "execution_count": 19,
   "metadata": {},
   "outputs": [
    {
     "data": {
      "text/plain": [
       "[(6, 'Uruguay'), (68, 'Argentina'), (92, 'Brazil'), (130, 'Mexico')]"
      ]
     },
     "execution_count": 19,
     "metadata": {},
     "output_type": "execute_result"
    }
   ],
   "source": [
    "filmes"
   ]
  },
  {
   "cell_type": "code",
   "execution_count": 20,
   "metadata": {},
   "outputs": [
    {
     "data": {
      "text/plain": [
       "['show_id',\n",
       " 'type',\n",
       " 'title',\n",
       " 'director',\n",
       " 'cast',\n",
       " 'country',\n",
       " 'date_added',\n",
       " 'release_year',\n",
       " 'rating',\n",
       " 'duration',\n",
       " 'listed_in',\n",
       " 'description']"
      ]
     },
     "execution_count": 20,
     "metadata": {},
     "output_type": "execute_result"
    }
   ],
   "source": [
    "list(df1.keys())"
   ]
  },
  {
   "cell_type": "code",
   "execution_count": 21,
   "metadata": {},
   "outputs": [],
   "source": [
    "df1=elimina_nan(df1,list(df1.keys())[5])"
   ]
  },
  {
   "cell_type": "markdown",
   "metadata": {},
   "source": [
    "### 4 Listar o diretor brasileiro com mais recorrências em todas as categorias"
   ]
  },
  {
   "cell_type": "code",
   "execution_count": 22,
   "metadata": {},
   "outputs": [],
   "source": [
    "ls=df1[df1['country']=='Brazil']['director']"
   ]
  },
  {
   "cell_type": "code",
   "execution_count": 23,
   "metadata": {},
   "outputs": [
    {
     "data": {
      "text/plain": [
       "0                                  NaN\n",
       "199                                NaN\n",
       "209                       Carla Barros\n",
       "310       Junior Carelli, Rudge Campos\n",
       "312                    Juliana Vicente\n",
       "                     ...              \n",
       "13499                              NaN\n",
       "13873    Fabio Ock, Joana Mazzucchelli\n",
       "14180                              NaN\n",
       "14377                  Diego Pignataro\n",
       "14532                              NaN\n",
       "Name: director, Length: 144, dtype: object"
      ]
     },
     "execution_count": 23,
     "metadata": {},
     "output_type": "execute_result"
    }
   ],
   "source": [
    "ls"
   ]
  },
  {
   "cell_type": "code",
   "execution_count": 24,
   "metadata": {},
   "outputs": [
    {
     "data": {
      "text/plain": [
       "144"
      ]
     },
     "execution_count": 24,
     "metadata": {},
     "output_type": "execute_result"
    }
   ],
   "source": [
    "ls.shape[0]"
   ]
  },
  {
   "cell_type": "code",
   "execution_count": 25,
   "metadata": {},
   "outputs": [
    {
     "data": {
      "text/plain": [
       "array([nan, 'Carla Barros', 'Junior Carelli, Rudge Campos',\n",
       "       'Juliana Vicente', 'Gil Baroni', 'Pedro Coutinho', 'Matheus Souza',\n",
       "       'Andrucha Waddington, Pedro Waddington', 'José Eduardo Belmonte',\n",
       "       'Alê Abreu', 'Marcelo Galvão', 'Guilherme Fontes',\n",
       "       'Cavi Borges, Luciano Vidigal', 'Alexandre Reinecke',\n",
       "       'Cassia Dian', 'Bruno Garotti', \"Cris D'Amato\", 'Halder Gomes',\n",
       "       'Diego Pignataro', 'Célia Catunda, Kiko Mistrorigo, Rodrigo Eba',\n",
       "       'Luis Ara', 'Lô Politi', 'Roberto Santucci', 'Wagner de Assis',\n",
       "       'Lygia Barbosa da Silva, Eliane Brum', 'Fernando Ayllón',\n",
       "       'Anita Barbosa', 'Lucas Margutti', 'Caio Cobra',\n",
       "       'Alexandre Avancini', 'Marco Dutra', \"André D'Elia\",\n",
       "       'Tomas Portella', 'Monique Gardenberg', 'Raphael Erichsen',\n",
       "       'Afonso Poyart', 'Renata Terra', 'Estela Renner',\n",
       "       'Michel Tikhomiroff', 'Petra Costa', 'Rodrigo Van Der Put',\n",
       "       'Fabio Ock, Joana Mazzucchelli'], dtype=object)"
      ]
     },
     "execution_count": 25,
     "metadata": {},
     "output_type": "execute_result"
    }
   ],
   "source": [
    "ls.unique()"
   ]
  },
  {
   "cell_type": "markdown",
   "metadata": {},
   "source": [
    "##### Como não eliminamos as entradas NaN , elas entraram na contagem do método .unique()"
   ]
  },
  {
   "cell_type": "code",
   "execution_count": 26,
   "metadata": {},
   "outputs": [
    {
     "data": {
      "text/plain": [
       "['show_id',\n",
       " 'type',\n",
       " 'title',\n",
       " 'director',\n",
       " 'cast',\n",
       " 'country',\n",
       " 'date_added',\n",
       " 'release_year',\n",
       " 'rating',\n",
       " 'duration',\n",
       " 'listed_in',\n",
       " 'description']"
      ]
     },
     "execution_count": 26,
     "metadata": {},
     "output_type": "execute_result"
    }
   ],
   "source": [
    "list(df1.keys())"
   ]
  },
  {
   "cell_type": "code",
   "execution_count": 27,
   "metadata": {},
   "outputs": [],
   "source": [
    "feature=list(df1.keys())[3]"
   ]
  },
  {
   "cell_type": "code",
   "execution_count": 29,
   "metadata": {},
   "outputs": [],
   "source": [
    "df3=df1.copy()"
   ]
  },
  {
   "cell_type": "code",
   "execution_count": 30,
   "metadata": {},
   "outputs": [
    {
     "data": {
      "text/plain": [
       "0                      NaN\n",
       "1        Jorge Michel Grau\n",
       "2             Gilbert Chan\n",
       "3              Shane Acker\n",
       "4           Robert Luketic\n",
       "               ...        \n",
       "14555         Peter Hewitt\n",
       "14556          Josef Fares\n",
       "14557          Mozez Singh\n",
       "14558                  NaN\n",
       "14559             Sam Dunn\n",
       "Name: director, Length: 14560, dtype: object"
      ]
     },
     "execution_count": 30,
     "metadata": {},
     "output_type": "execute_result"
    }
   ],
   "source": [
    "df3[feature]"
   ]
  },
  {
   "cell_type": "markdown",
   "metadata": {},
   "source": [
    "#### Acessar diretamente"
   ]
  },
  {
   "cell_type": "code",
   "execution_count": 31,
   "metadata": {},
   "outputs": [
    {
     "data": {
      "text/plain": [
       "'director'"
      ]
     },
     "execution_count": 31,
     "metadata": {},
     "output_type": "execute_result"
    }
   ],
   "source": [
    "df3.columns[3]"
   ]
  },
  {
   "cell_type": "code",
   "execution_count": 32,
   "metadata": {},
   "outputs": [],
   "source": [
    "df3=df3[df3['country']=='Brazil']"
   ]
  },
  {
   "cell_type": "code",
   "execution_count": 33,
   "metadata": {},
   "outputs": [],
   "source": [
    "df3=elimina_nan(df3,feature)"
   ]
  },
  {
   "cell_type": "code",
   "execution_count": 34,
   "metadata": {},
   "outputs": [
    {
     "data": {
      "text/plain": [
       "41"
      ]
     },
     "execution_count": 34,
     "metadata": {},
     "output_type": "execute_result"
    }
   ],
   "source": [
    "df3['director'].unique().shape[0]"
   ]
  },
  {
   "cell_type": "code",
   "execution_count": 37,
   "metadata": {},
   "outputs": [
    {
     "data": {
      "text/plain": [
       "Diego Pignataro                                6\n",
       "Lucas Margutti                                 6\n",
       "Marcelo Galvão                                 4\n",
       "Alexandre Avancini                             4\n",
       "Bruno Garotti                                  4\n",
       "Rodrigo Van Der Put                            4\n",
       "Cris D'Amato                                   2\n",
       "Monique Gardenberg                             2\n",
       "Michel Tikhomiroff                             2\n",
       "Cavi Borges, Luciano Vidigal                   2\n",
       "Alexandre Reinecke                             2\n",
       "Petra Costa                                    2\n",
       "Marco Dutra                                    2\n",
       "André D'Elia                                   2\n",
       "Pedro Coutinho                                 2\n",
       "Caio Cobra                                     2\n",
       "Anita Barbosa                                  2\n",
       "Tomas Portella                                 2\n",
       "Afonso Poyart                                  2\n",
       "Andrucha Waddington, Pedro Waddington          2\n",
       "Guilherme Fontes                               2\n",
       "Wagner de Assis                                2\n",
       "Fabio Ock, Joana Mazzucchelli                  2\n",
       "Estela Renner                                  2\n",
       "Fernando Ayllón                                2\n",
       "Lô Politi                                      2\n",
       "Raphael Erichsen                               2\n",
       "Luis Ara                                       2\n",
       "Gil Baroni                                     2\n",
       "Matheus Souza                                  2\n",
       "Alê Abreu                                      2\n",
       "Juliana Vicente                                2\n",
       "Renata Terra                                   2\n",
       "Roberto Santucci                               2\n",
       "Célia Catunda, Kiko Mistrorigo, Rodrigo Eba    2\n",
       "José Eduardo Belmonte                          2\n",
       "Cassia Dian                                    2\n",
       "Carla Barros                                   2\n",
       "Halder Gomes                                   2\n",
       "Lygia Barbosa da Silva, Eliane Brum            2\n",
       "Junior Carelli, Rudge Campos                   2\n",
       "Name: director, dtype: int64"
      ]
     },
     "execution_count": 37,
     "metadata": {},
     "output_type": "execute_result"
    }
   ],
   "source": [
    "df3['director'].value_counts()"
   ]
  },
  {
   "cell_type": "code",
   "execution_count": 36,
   "metadata": {},
   "outputs": [
    {
     "name": "stdout",
     "output_type": "stream",
     "text": [
      "(6, 'Lucas Margutti')\n",
      "(6, 'Diego Pignataro')\n"
     ]
    }
   ],
   "source": [
    "maior=sorted([(df3[df3['director']==diretor].shape[0],diretor) for diretor in df3['director'].unique()],reverse=True)\n",
    "#Gera uma lista de tuplas\n",
    "for i,tup in enumerate(maior):\n",
    "    if(maior[i][0]==maior[0][0]):\n",
    "        print(maior[i])"
   ]
  },
  {
   "cell_type": "markdown",
   "metadata": {},
   "source": [
    "### 5 Gráfico de barras número de lançamentos: BR X OUTROS de 2015-2020"
   ]
  },
  {
   "cell_type": "code",
   "execution_count": 43,
   "metadata": {},
   "outputs": [
    {
     "data": {
      "text/html": [
       "<div>\n",
       "<style scoped>\n",
       "    .dataframe tbody tr th:only-of-type {\n",
       "        vertical-align: middle;\n",
       "    }\n",
       "\n",
       "    .dataframe tbody tr th {\n",
       "        vertical-align: top;\n",
       "    }\n",
       "\n",
       "    .dataframe thead th {\n",
       "        text-align: right;\n",
       "    }\n",
       "</style>\n",
       "<table border=\"1\" class=\"dataframe\">\n",
       "  <thead>\n",
       "    <tr style=\"text-align: right;\">\n",
       "      <th></th>\n",
       "      <th>show_id</th>\n",
       "      <th>type</th>\n",
       "      <th>title</th>\n",
       "      <th>director</th>\n",
       "      <th>cast</th>\n",
       "      <th>country</th>\n",
       "      <th>date_added</th>\n",
       "      <th>release_year</th>\n",
       "      <th>rating</th>\n",
       "      <th>duration</th>\n",
       "      <th>listed_in</th>\n",
       "      <th>description</th>\n",
       "    </tr>\n",
       "  </thead>\n",
       "  <tbody>\n",
       "    <tr>\n",
       "      <th>0</th>\n",
       "      <td>s1</td>\n",
       "      <td>TV Show</td>\n",
       "      <td>3%</td>\n",
       "      <td>NaN</td>\n",
       "      <td>João Miguel, Bianca Comparato, Michel Gomes, R...</td>\n",
       "      <td>Brazil</td>\n",
       "      <td>August 14, 2020</td>\n",
       "      <td>2020</td>\n",
       "      <td>TV-MA</td>\n",
       "      <td>4 Seasons</td>\n",
       "      <td>International TV Shows, TV Dramas, TV Sci-Fi &amp;...</td>\n",
       "      <td>In a future where the elite inhabit an island ...</td>\n",
       "    </tr>\n",
       "    <tr>\n",
       "      <th>1</th>\n",
       "      <td>s2</td>\n",
       "      <td>Movie</td>\n",
       "      <td>7:19</td>\n",
       "      <td>Jorge Michel Grau</td>\n",
       "      <td>Demián Bichir, Héctor Bonilla, Oscar Serrano, ...</td>\n",
       "      <td>Mexico</td>\n",
       "      <td>December 23, 2016</td>\n",
       "      <td>2016</td>\n",
       "      <td>TV-MA</td>\n",
       "      <td>93 min</td>\n",
       "      <td>Dramas, International Movies</td>\n",
       "      <td>After a devastating earthquake hits Mexico Cit...</td>\n",
       "    </tr>\n",
       "    <tr>\n",
       "      <th>2</th>\n",
       "      <td>s3</td>\n",
       "      <td>Movie</td>\n",
       "      <td>23:59</td>\n",
       "      <td>Gilbert Chan</td>\n",
       "      <td>Tedd Chan, Stella Chung, Henley Hii, Lawrence ...</td>\n",
       "      <td>Singapore</td>\n",
       "      <td>December 20, 2018</td>\n",
       "      <td>2011</td>\n",
       "      <td>R</td>\n",
       "      <td>78 min</td>\n",
       "      <td>Horror Movies, International Movies</td>\n",
       "      <td>When an army recruit is found dead, his fellow...</td>\n",
       "    </tr>\n",
       "    <tr>\n",
       "      <th>3</th>\n",
       "      <td>s4</td>\n",
       "      <td>Movie</td>\n",
       "      <td>9</td>\n",
       "      <td>Shane Acker</td>\n",
       "      <td>Elijah Wood, John C. Reilly, Jennifer Connelly...</td>\n",
       "      <td>United States</td>\n",
       "      <td>November 16, 2017</td>\n",
       "      <td>2009</td>\n",
       "      <td>PG-13</td>\n",
       "      <td>80 min</td>\n",
       "      <td>Action &amp; Adventure, Independent Movies, Sci-Fi...</td>\n",
       "      <td>In a postapocalyptic world, rag-doll robots hi...</td>\n",
       "    </tr>\n",
       "    <tr>\n",
       "      <th>4</th>\n",
       "      <td>s5</td>\n",
       "      <td>Movie</td>\n",
       "      <td>21</td>\n",
       "      <td>Robert Luketic</td>\n",
       "      <td>Jim Sturgess, Kevin Spacey, Kate Bosworth, Aar...</td>\n",
       "      <td>United States</td>\n",
       "      <td>January 1, 2020</td>\n",
       "      <td>2008</td>\n",
       "      <td>PG-13</td>\n",
       "      <td>123 min</td>\n",
       "      <td>Dramas</td>\n",
       "      <td>A brilliant group of students become card-coun...</td>\n",
       "    </tr>\n",
       "  </tbody>\n",
       "</table>\n",
       "</div>"
      ],
      "text/plain": [
       "  show_id     type  title           director  \\\n",
       "0      s1  TV Show     3%                NaN   \n",
       "1      s2    Movie   7:19  Jorge Michel Grau   \n",
       "2      s3    Movie  23:59       Gilbert Chan   \n",
       "3      s4    Movie      9        Shane Acker   \n",
       "4      s5    Movie     21     Robert Luketic   \n",
       "\n",
       "                                                cast        country  \\\n",
       "0  João Miguel, Bianca Comparato, Michel Gomes, R...         Brazil   \n",
       "1  Demián Bichir, Héctor Bonilla, Oscar Serrano, ...         Mexico   \n",
       "2  Tedd Chan, Stella Chung, Henley Hii, Lawrence ...      Singapore   \n",
       "3  Elijah Wood, John C. Reilly, Jennifer Connelly...  United States   \n",
       "4  Jim Sturgess, Kevin Spacey, Kate Bosworth, Aar...  United States   \n",
       "\n",
       "          date_added release_year rating   duration  \\\n",
       "0    August 14, 2020         2020  TV-MA  4 Seasons   \n",
       "1  December 23, 2016         2016  TV-MA     93 min   \n",
       "2  December 20, 2018         2011      R     78 min   \n",
       "3  November 16, 2017         2009  PG-13     80 min   \n",
       "4    January 1, 2020         2008  PG-13    123 min   \n",
       "\n",
       "                                           listed_in  \\\n",
       "0  International TV Shows, TV Dramas, TV Sci-Fi &...   \n",
       "1                       Dramas, International Movies   \n",
       "2                Horror Movies, International Movies   \n",
       "3  Action & Adventure, Independent Movies, Sci-Fi...   \n",
       "4                                             Dramas   \n",
       "\n",
       "                                         description  \n",
       "0  In a future where the elite inhabit an island ...  \n",
       "1  After a devastating earthquake hits Mexico Cit...  \n",
       "2  When an army recruit is found dead, his fellow...  \n",
       "3  In a postapocalyptic world, rag-doll robots hi...  \n",
       "4  A brilliant group of students become card-coun...  "
      ]
     },
     "execution_count": 43,
     "metadata": {},
     "output_type": "execute_result"
    }
   ],
   "source": [
    "df1.head(5)"
   ]
  },
  {
   "cell_type": "markdown",
   "metadata": {},
   "source": [
    "### 6 Função Encontrar os 5 mais novos filmes de um país"
   ]
  },
  {
   "cell_type": "code",
   "execution_count": 38,
   "metadata": {},
   "outputs": [
    {
     "name": "stdout",
     "output_type": "stream",
     "text": [
      "2019 - Francesco De Carlo: Cose di Questo Mondo\n",
      "2019 - Huge in France\n",
      "2019 - Nailed It! France\n",
      "2019 - Francesco De Carlo: Cose di Questo Mondo\n",
      "2019 - Huge in France\n"
     ]
    }
   ],
   "source": [
    "df_novo=top_cinco(df1,'release_year','title','France')"
   ]
  },
  {
   "cell_type": "code",
   "execution_count": 39,
   "metadata": {},
   "outputs": [
    {
     "data": {
      "text/html": [
       "<div>\n",
       "<style scoped>\n",
       "    .dataframe tbody tr th:only-of-type {\n",
       "        vertical-align: middle;\n",
       "    }\n",
       "\n",
       "    .dataframe tbody tr th {\n",
       "        vertical-align: top;\n",
       "    }\n",
       "\n",
       "    .dataframe thead th {\n",
       "        text-align: right;\n",
       "    }\n",
       "</style>\n",
       "<table border=\"1\" class=\"dataframe\">\n",
       "  <thead>\n",
       "    <tr style=\"text-align: right;\">\n",
       "      <th></th>\n",
       "      <th>show_id</th>\n",
       "      <th>type</th>\n",
       "      <th>title</th>\n",
       "      <th>director</th>\n",
       "      <th>cast</th>\n",
       "      <th>country</th>\n",
       "      <th>date_added</th>\n",
       "      <th>release_year</th>\n",
       "      <th>rating</th>\n",
       "      <th>duration</th>\n",
       "      <th>listed_in</th>\n",
       "      <th>description</th>\n",
       "    </tr>\n",
       "  </thead>\n",
       "  <tbody>\n",
       "    <tr>\n",
       "      <th>2</th>\n",
       "      <td>s2257</td>\n",
       "      <td>Movie</td>\n",
       "      <td>Francesco De Carlo: Cose di Questo Mondo</td>\n",
       "      <td>NaN</td>\n",
       "      <td>Francesco De Carlo</td>\n",
       "      <td>Italy</td>\n",
       "      <td>April 12, 2019</td>\n",
       "      <td>2019</td>\n",
       "      <td>TV-MA</td>\n",
       "      <td>61 min</td>\n",
       "      <td>Stand-Up Comedy</td>\n",
       "      <td>Taking the stage in Milan, Francesco De Carlo ...</td>\n",
       "    </tr>\n",
       "    <tr>\n",
       "      <th>3</th>\n",
       "      <td>s2857</td>\n",
       "      <td>TV Show</td>\n",
       "      <td>Huge in France</td>\n",
       "      <td>NaN</td>\n",
       "      <td>Gad Elmaleh, Scott Keiji Takeda, Jordan Ver Ho...</td>\n",
       "      <td>United States</td>\n",
       "      <td>April 12, 2019</td>\n",
       "      <td>2019</td>\n",
       "      <td>TV-MA</td>\n",
       "      <td>1 Season</td>\n",
       "      <td>TV Comedies</td>\n",
       "      <td>Eager to reconnect with his son, French comedy...</td>\n",
       "    </tr>\n",
       "    <tr>\n",
       "      <th>5</th>\n",
       "      <td>s4388</td>\n",
       "      <td>TV Show</td>\n",
       "      <td>Nailed It! France</td>\n",
       "      <td>NaN</td>\n",
       "      <td>Artus, Noémie Honiat</td>\n",
       "      <td>France</td>\n",
       "      <td>October 25, 2019</td>\n",
       "      <td>2019</td>\n",
       "      <td>TV-14</td>\n",
       "      <td>1 Season</td>\n",
       "      <td>International TV Shows, Reality TV</td>\n",
       "      <td>On this fun and funny competition show, home b...</td>\n",
       "    </tr>\n",
       "    <tr>\n",
       "      <th>8</th>\n",
       "      <td>s2257</td>\n",
       "      <td>Movie</td>\n",
       "      <td>Francesco De Carlo: Cose di Questo Mondo</td>\n",
       "      <td>NaN</td>\n",
       "      <td>Francesco De Carlo</td>\n",
       "      <td>Italy</td>\n",
       "      <td>April 12, 2019</td>\n",
       "      <td>2019</td>\n",
       "      <td>TV-MA</td>\n",
       "      <td>61 min</td>\n",
       "      <td>Stand-Up Comedy</td>\n",
       "      <td>Taking the stage in Milan, Francesco De Carlo ...</td>\n",
       "    </tr>\n",
       "    <tr>\n",
       "      <th>9</th>\n",
       "      <td>s2857</td>\n",
       "      <td>TV Show</td>\n",
       "      <td>Huge in France</td>\n",
       "      <td>NaN</td>\n",
       "      <td>Gad Elmaleh, Scott Keiji Takeda, Jordan Ver Ho...</td>\n",
       "      <td>United States</td>\n",
       "      <td>April 12, 2019</td>\n",
       "      <td>2019</td>\n",
       "      <td>TV-MA</td>\n",
       "      <td>1 Season</td>\n",
       "      <td>TV Comedies</td>\n",
       "      <td>Eager to reconnect with his son, French comedy...</td>\n",
       "    </tr>\n",
       "  </tbody>\n",
       "</table>\n",
       "</div>"
      ],
      "text/plain": [
       "  show_id     type                                     title director  \\\n",
       "2   s2257    Movie  Francesco De Carlo: Cose di Questo Mondo      NaN   \n",
       "3   s2857  TV Show                            Huge in France      NaN   \n",
       "5   s4388  TV Show                         Nailed It! France      NaN   \n",
       "8   s2257    Movie  Francesco De Carlo: Cose di Questo Mondo      NaN   \n",
       "9   s2857  TV Show                            Huge in France      NaN   \n",
       "\n",
       "                                                cast        country  \\\n",
       "2                                 Francesco De Carlo          Italy   \n",
       "3  Gad Elmaleh, Scott Keiji Takeda, Jordan Ver Ho...  United States   \n",
       "5                               Artus, Noémie Honiat         France   \n",
       "8                                 Francesco De Carlo          Italy   \n",
       "9  Gad Elmaleh, Scott Keiji Takeda, Jordan Ver Ho...  United States   \n",
       "\n",
       "         date_added  release_year rating  duration  \\\n",
       "2    April 12, 2019          2019  TV-MA    61 min   \n",
       "3    April 12, 2019          2019  TV-MA  1 Season   \n",
       "5  October 25, 2019          2019  TV-14  1 Season   \n",
       "8    April 12, 2019          2019  TV-MA    61 min   \n",
       "9    April 12, 2019          2019  TV-MA  1 Season   \n",
       "\n",
       "                            listed_in  \\\n",
       "2                     Stand-Up Comedy   \n",
       "3                         TV Comedies   \n",
       "5  International TV Shows, Reality TV   \n",
       "8                     Stand-Up Comedy   \n",
       "9                         TV Comedies   \n",
       "\n",
       "                                         description  \n",
       "2  Taking the stage in Milan, Francesco De Carlo ...  \n",
       "3  Eager to reconnect with his son, French comedy...  \n",
       "5  On this fun and funny competition show, home b...  \n",
       "8  Taking the stage in Milan, Francesco De Carlo ...  \n",
       "9  Eager to reconnect with his son, French comedy...  "
      ]
     },
     "execution_count": 39,
     "metadata": {},
     "output_type": "execute_result"
    }
   ],
   "source": [
    "df_novo.head()"
   ]
  },
  {
   "cell_type": "markdown",
   "metadata": {},
   "source": [
    "### 7 Listar o diretor mundial com mais recorrências em todas as categorias"
   ]
  },
  {
   "cell_type": "code",
   "execution_count": 40,
   "metadata": {},
   "outputs": [
    {
     "data": {
      "text/plain": [
       "Raúl Campos, Jan Suter            36\n",
       "Marcus Raboy                      30\n",
       "Jay Karas                         28\n",
       "Cathy Garcia-Molina               26\n",
       "Youssef Chahine                   24\n",
       "                                  ..\n",
       "Robert Krantz                      2\n",
       "David Fairhead, Anthony Palmer     2\n",
       "Oliver Kienle                      2\n",
       "director                           1\n",
       "Sam Dunn                           1\n",
       "Name: director, Length: 3932, dtype: int64"
      ]
     },
     "execution_count": 40,
     "metadata": {},
     "output_type": "execute_result"
    }
   ],
   "source": [
    "df1['director'].value_counts()"
   ]
  },
  {
   "cell_type": "code",
   "execution_count": 41,
   "metadata": {},
   "outputs": [
    {
     "name": "stdout",
     "output_type": "stream",
     "text": [
      "(36, 'Raúl Campos, Jan Suter')\n"
     ]
    }
   ],
   "source": [
    "maior=sorted([(df1[df1['director']==diretor].shape[0],diretor) for diretor in df1['director'].unique()],reverse=True)\n",
    "\n",
    "for i,tup in enumerate(df1['director'].value_counts()):\n",
    "    if(maior[i][0]==maior[0][0]):\n",
    "        print(maior[i])"
   ]
  }
 ],
 "metadata": {
  "kernelspec": {
   "display_name": "Python 3",
   "language": "python",
   "name": "python3"
  },
  "language_info": {
   "codemirror_mode": {
    "name": "ipython",
    "version": 3
   },
   "file_extension": ".py",
   "mimetype": "text/x-python",
   "name": "python",
   "nbconvert_exporter": "python",
   "pygments_lexer": "ipython3",
   "version": "3.8.5"
  }
 },
 "nbformat": 4,
 "nbformat_minor": 4
}
