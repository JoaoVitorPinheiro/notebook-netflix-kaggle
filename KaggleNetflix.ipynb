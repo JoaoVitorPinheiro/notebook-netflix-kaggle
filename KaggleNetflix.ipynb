{
 "cells": [
  {
   "cell_type": "markdown",
   "metadata": {},
   "source": [
    "# Tarefas #\n",
    "#### 1.Quantas séries são exclusivamente brasileiras, argentinas, mexicanas e uruguaias.\n",
    "#### 2.Quantos filmes brasileiros são produções originais?\n",
    "#### 3.Gráfico de barras número de lançamentos: BR X OUTROS de 2015-2020\n",
    "#### 4.Listar quantos filmes são exclusivamente: brasileiros, argentinos, mexicanos e uruguaios.\n",
    "#### 5.Função Encontrar os 5 mais novos filmes de um país\n",
    "#### 6.Função Listar todos os filmes de um país (inclusive contribuições entre países)\n",
    "#### 7.Listar o diretor mundial com mais recorrências em todas as categorias\n",
    "#### 8.Listar o diretor brasileiro com mais recorrências em todas as categorias"
   ]
  },
  {
   "cell_type": "markdown",
   "metadata": {},
   "source": [
    "## --- Tratamento de dados ---"
   ]
  },
  {
   "cell_type": "code",
<<<<<<< HEAD
   "execution_count": 2,
   "metadata": {},
   "outputs": [],
   "source": [
    "###########\n",
=======
   "execution_count": 642,
   "metadata": {},
   "outputs": [],
   "source": [
>>>>>>> 0a90b8a2ee5cd9c1d53bb0121fe4896c18714b9c
    "import matplotlib.pyplot as plt\n",
    "import numpy as np\n",
    "import pandas as pd\n",
    "import re\n",
    "from collections import namedtuple"
   ]
  },
  {
   "cell_type": "code",
<<<<<<< HEAD
   "execution_count": 3,
=======
   "execution_count": 643,
>>>>>>> 0a90b8a2ee5cd9c1d53bb0121fe4896c18714b9c
   "metadata": {},
   "outputs": [],
   "source": [
    "data1_path='netflix_titles.csv'\n",
    "df1 = pd.read_csv(data1_path)"
   ]
  },
  {
   "cell_type": "markdown",
   "metadata": {},
   "source": [
    "### Funções Utilizadas"
   ]
  },
  {
   "cell_type": "markdown",
   "metadata": {},
   "source": [
    "#### Função Buscar instâncias do nome procurado em uma str"
   ]
  },
  {
   "cell_type": "code",
<<<<<<< HEAD
   "execution_count": 4,
=======
   "execution_count": 644,
>>>>>>> 0a90b8a2ee5cd9c1d53bb0121fe4896c18714b9c
   "metadata": {},
   "outputs": [],
   "source": [
    "def achar_palavra(palavra):\n",
    "    return re.compile(r'\\b({0})\\b'.format(palavra), flags=re.IGNORECASE).search\n",
    "# os \\b \\b indica uma palavra separada , não permitindo encontrar instâncias no meio de outras\n",
    "#Se encontrar, retorna um objeto \n",
    "#Se não, None"
   ]
  },
  {
   "cell_type": "code",
<<<<<<< HEAD
   "execution_count": 5,
=======
   "execution_count": 645,
>>>>>>> 0a90b8a2ee5cd9c1d53bb0121fe4896c18714b9c
   "metadata": {},
   "outputs": [
    {
     "data": {
      "text/plain": [
       "<re.Match object; span=(2, 8), match='brazil'>"
      ]
     },
<<<<<<< HEAD
     "execution_count": 5,
=======
     "execution_count": 645,
>>>>>>> 0a90b8a2ee5cd9c1d53bb0121fe4896c18714b9c
     "metadata": {},
     "output_type": "execute_result"
    }
   ],
   "source": [
    "achar_palavra(\"Brazil\")(\"O brazil é brazileiro\")"
   ]
  },
  {
   "cell_type": "code",
<<<<<<< HEAD
   "execution_count": 6,
=======
   "execution_count": 646,
>>>>>>> 0a90b8a2ee5cd9c1d53bb0121fe4896c18714b9c
   "metadata": {},
   "outputs": [],
   "source": [
    "achar_palavra(\"Brazil\")(\"O brasil é brazileiro\")\n",
    "#sem retorno"
   ]
  },
  {
   "cell_type": "markdown",
   "metadata": {},
   "source": [
    "#### Função Eliminar NaN por coluna"
   ]
  },
  {
   "cell_type": "code",
<<<<<<< HEAD
   "execution_count": 7,
=======
   "execution_count": 647,
>>>>>>> 0a90b8a2ee5cd9c1d53bb0121fe4896c18714b9c
   "metadata": {},
   "outputs": [],
   "source": [
    "def elimina_nan(df,coluna):\n",
    "#Elimina todos os NaN para a coluna selecionada  \n",
    "    df=df.dropna(axis=0,subset=[coluna])\n",
    "    df=df.reset_index(drop=True)\n",
    "    #Resetar o index é importante pra não comprometer futuras iterações no mesmo dataframe\n",
    "    return df"
   ]
  },
  {
   "cell_type": "markdown",
   "metadata": {},
   "source": [
    "### 6-Função Listar todos os filmes de um país (inclusive contribuições entre países)"
   ]
  },
  {
   "cell_type": "code",
<<<<<<< HEAD
   "execution_count": 8,
=======
   "execution_count": 648,
>>>>>>> 0a90b8a2ee5cd9c1d53bb0121fe4896c18714b9c
   "metadata": {},
   "outputs": [],
   "source": [
    "def find_word(palavra,df,feature):\n",
    "    lista=[]\n",
    "    sublista=[]\n",
    "    df=df.dropna(axis=0,subset=[feature])\n",
    "    df=df.reset_index(drop=True)\n",
    "    #as instâncias NaN presentes no Dataframe podem gerar erros na iteração\n",
    "    i=0\n",
    "    j=0\n",
    "    for pivo in df[feature]:\n",
    "        #o pivo percorre a coluna da feature selecionada\n",
    "        if palavra in df[feature][i]:\n",
    "        #se a palavra procurada for encontrada no index i, \n",
    "        #imprimir o conteúdo e adicionar a uma lista de listas\n",
    "            print(df[feature][i])\n",
    "            #Imprime cada recorrência por fins de demonstração\n",
    "            for coluna in list(df.keys()):\n",
    "                sublista.append(df[coluna][i])\n",
    "            lista.append(sublista)\n",
    "            sublista=[]\n",
    "        i=i+1\n",
    "    #Fazendo o novo df herdar as keys do df original \n",
    "    sublista=list(df.keys())\n",
    "    df=pd.DataFrame(lista)\n",
    "    df.columns=sublista\n",
    "    return df"
   ]
  },
  {
   "cell_type": "code",
<<<<<<< HEAD
   "execution_count": 9,
=======
   "execution_count": 649,
>>>>>>> 0a90b8a2ee5cd9c1d53bb0121fe4896c18714b9c
   "metadata": {},
   "outputs": [
    {
     "name": "stdout",
     "output_type": "stream",
     "text": [
      "Brazil\n",
      "Brazil\n",
      "Brazil\n",
      "Argentina, Brazil, France, Poland, Germany, Denmark\n",
      "Brazil\n",
      "Brazil\n",
      "Brazil\n",
      "Brazil\n",
      "Brazil\n",
      "Brazil\n",
      "Brazil, Netherlands, United States, Colombia, Austria, Germany\n",
      "Brazil\n",
      "Brazil\n",
      "Brazil\n",
      "Brazil\n",
      "Brazil\n",
      "Brazil\n",
      "Brazil\n",
      "Brazil, France, Germany\n",
      "Brazil\n",
      "Brazil\n",
      "Canada, Brazil\n",
      "Brazil\n",
      "Brazil\n",
      "Brazil\n",
      "Brazil\n",
      "Brazil\n",
      "Brazil, United States\n",
      "Brazil\n",
      "Brazil\n",
      "Brazil\n",
      "Brazil\n",
      "United States, Brazil\n",
      "Brazil, France\n",
      "Brazil\n",
      "Brazil\n",
      "Brazil\n",
      "Brazil\n",
      "Brazil\n",
      "Brazil\n",
      "Brazil\n",
      "United States, Greece, Brazil\n",
      "Brazil\n",
      "Brazil\n",
      "Brazil\n",
      "Brazil\n",
      "Brazil\n",
      "Brazil\n",
      "Brazil\n",
      "Brazil\n",
      "Brazil\n",
      "Brazil\n",
      "Brazil\n",
      "Brazil\n",
      "Brazil\n",
      "Brazil\n",
      "Denmark, Brazil, France, Portugal, Sweden\n",
      "Brazil\n",
      "Brazil, India, China, United States\n",
      "Brazil\n",
      "Brazil\n",
      "Brazil\n",
      "Brazil\n",
      "Brazil\n",
      "Brazil\n",
      "Brazil\n",
      "Brazil, France\n",
      "Brazil\n",
      "Brazil\n",
      "Brazil\n",
      "Brazil\n",
      "Brazil\n",
      "Brazil\n",
      "Brazil\n",
      "Brazil, United Kingdom\n",
      "Brazil\n",
      "Brazil\n",
      "Brazil\n",
      "Brazil\n",
      "Brazil\n",
      "Brazil\n",
      "United Kingdom, Brazil, Germany\n",
      "United States, Brazil, South Korea, Mexico, Japan, Germany\n",
      "Brazil\n",
      "France, Brazil, Spain, Belgium\n",
      "United States, Brazil, India, Uganda, China\n",
      "Brazil\n",
      "Brazil\n"
     ]
    }
   ],
   "source": [
    "df_novo=find_word('Brazil',df1,list(df1.keys())[5]).copy()"
   ]
  },
  {
   "cell_type": "code",
<<<<<<< HEAD
   "execution_count": 10,
=======
   "execution_count": 650,
>>>>>>> 0a90b8a2ee5cd9c1d53bb0121fe4896c18714b9c
   "metadata": {},
   "outputs": [
    {
     "data": {
      "text/plain": [
       "show_id         object\n",
       "type            object\n",
       "title           object\n",
       "director        object\n",
       "cast            object\n",
       "country         object\n",
       "date_added      object\n",
       "release_year     int64\n",
       "rating          object\n",
       "duration        object\n",
       "listed_in       object\n",
       "description     object\n",
       "dtype: object"
      ]
     },
<<<<<<< HEAD
     "execution_count": 10,
=======
     "execution_count": 650,
>>>>>>> 0a90b8a2ee5cd9c1d53bb0121fe4896c18714b9c
     "metadata": {},
     "output_type": "execute_result"
    }
   ],
   "source": [
    "df1.dtypes"
   ]
  },
  {
   "cell_type": "markdown",
   "metadata": {},
   "source": [
    "### 1-Quantas séries são exclusivamente: brasileiras, argentinas, mexicanas e uruguaias?"
   ]
  },
  {
   "cell_type": "code",
<<<<<<< HEAD
   "execution_count": 11,
=======
   "execution_count": 651,
>>>>>>> 0a90b8a2ee5cd9c1d53bb0121fe4896c18714b9c
   "metadata": {},
   "outputs": [],
   "source": [
    "df2=df1[df1['country'].isin(['Brazil','Argentina','Mexico','Uruguay'])].copy()"
   ]
  },
  {
   "cell_type": "code",
<<<<<<< HEAD
   "execution_count": 12,
=======
   "execution_count": 652,
>>>>>>> 0a90b8a2ee5cd9c1d53bb0121fe4896c18714b9c
   "metadata": {},
   "outputs": [],
   "source": [
    "df_series=df2[df2['type']=='TV Show'].copy()"
   ]
  },
  {
   "cell_type": "code",
<<<<<<< HEAD
   "execution_count": 13,
=======
   "execution_count": 653,
>>>>>>> 0a90b8a2ee5cd9c1d53bb0121fe4896c18714b9c
   "metadata": {},
   "outputs": [
    {
     "data": {
      "text/html": [
       "<div>\n",
       "<style scoped>\n",
       "    .dataframe tbody tr th:only-of-type {\n",
       "        vertical-align: middle;\n",
       "    }\n",
       "\n",
       "    .dataframe tbody tr th {\n",
       "        vertical-align: top;\n",
       "    }\n",
       "\n",
       "    .dataframe thead th {\n",
       "        text-align: right;\n",
       "    }\n",
       "</style>\n",
       "<table border=\"1\" class=\"dataframe\">\n",
       "  <thead>\n",
       "    <tr style=\"text-align: right;\">\n",
       "      <th></th>\n",
       "      <th>show_id</th>\n",
       "      <th>type</th>\n",
       "      <th>title</th>\n",
       "      <th>director</th>\n",
       "      <th>cast</th>\n",
       "      <th>country</th>\n",
       "      <th>date_added</th>\n",
       "      <th>release_year</th>\n",
       "      <th>rating</th>\n",
       "      <th>duration</th>\n",
       "      <th>listed_in</th>\n",
       "      <th>description</th>\n",
       "    </tr>\n",
       "  </thead>\n",
       "  <tbody>\n",
       "    <tr>\n",
       "      <th>0</th>\n",
       "      <td>s1</td>\n",
       "      <td>TV Show</td>\n",
       "      <td>3%</td>\n",
       "      <td>NaN</td>\n",
       "      <td>João Miguel, Bianca Comparato, Michel Gomes, R...</td>\n",
       "      <td>Brazil</td>\n",
       "      <td>August 14, 2020</td>\n",
       "      <td>2020</td>\n",
       "      <td>TV-MA</td>\n",
       "      <td>4 Seasons</td>\n",
       "      <td>International TV Shows, TV Dramas, TV Sci-Fi &amp;...</td>\n",
       "      <td>In a future where the elite inhabit an island ...</td>\n",
       "    </tr>\n",
       "    <tr>\n",
       "      <th>12</th>\n",
       "      <td>s13</td>\n",
       "      <td>TV Show</td>\n",
       "      <td>1994</td>\n",
       "      <td>Diego Enrique Osorno</td>\n",
       "      <td>NaN</td>\n",
       "      <td>Mexico</td>\n",
       "      <td>May 17, 2019</td>\n",
       "      <td>2019</td>\n",
       "      <td>TV-MA</td>\n",
       "      <td>1 Season</td>\n",
       "      <td>Crime TV Shows, Docuseries, International TV S...</td>\n",
       "      <td>Archival video and new interviews examine Mexi...</td>\n",
       "    </tr>\n",
       "    <tr>\n",
       "      <th>218</th>\n",
       "      <td>s219</td>\n",
       "      <td>TV Show</td>\n",
       "      <td>A Queen Is Born</td>\n",
       "      <td>Carla Barros</td>\n",
       "      <td>Gloria Groove, Alexia Twister</td>\n",
       "      <td>Brazil</td>\n",
       "      <td>November 11, 2020</td>\n",
       "      <td>2020</td>\n",
       "      <td>TV-14</td>\n",
       "      <td>1 Season</td>\n",
       "      <td>International TV Shows, Reality TV</td>\n",
       "      <td>Gloria Groove and Alexia Twister make drag dre...</td>\n",
       "    </tr>\n",
       "    <tr>\n",
       "      <th>322</th>\n",
       "      <td>s323</td>\n",
       "      <td>TV Show</td>\n",
       "      <td>Afronta! Facing It!</td>\n",
       "      <td>Juliana Vicente</td>\n",
       "      <td>Loo Nascimento, Ingrid Silva, Rincon Sapiência...</td>\n",
       "      <td>Brazil</td>\n",
       "      <td>October 31, 2020</td>\n",
       "      <td>2017</td>\n",
       "      <td>TV-PG</td>\n",
       "      <td>1 Season</td>\n",
       "      <td>Docuseries, International TV Shows</td>\n",
       "      <td>This docuseries spotlights Afro-Brazilian thin...</td>\n",
       "    </tr>\n",
       "    <tr>\n",
       "      <th>426</th>\n",
       "      <td>s427</td>\n",
       "      <td>TV Show</td>\n",
       "      <td>Almost Happy</td>\n",
       "      <td>Hernán Guerschuny</td>\n",
       "      <td>Sebastián Wainraich, Natalie Pérez, Santiago K...</td>\n",
       "      <td>Argentina</td>\n",
       "      <td>May 2, 2020</td>\n",
       "      <td>2020</td>\n",
       "      <td>TV-MA</td>\n",
       "      <td>1 Season</td>\n",
       "      <td>International TV Shows, Spanish-Language TV Sh...</td>\n",
       "      <td>Sebastián is a radio show host of modest fame,...</td>\n",
       "    </tr>\n",
       "    <tr>\n",
       "      <th>...</th>\n",
       "      <td>...</td>\n",
       "      <td>...</td>\n",
       "      <td>...</td>\n",
       "      <td>...</td>\n",
       "      <td>...</td>\n",
       "      <td>...</td>\n",
       "      <td>...</td>\n",
       "      <td>...</td>\n",
       "      <td>...</td>\n",
       "      <td>...</td>\n",
       "      <td>...</td>\n",
       "      <td>...</td>\n",
       "    </tr>\n",
       "    <tr>\n",
       "      <th>7383</th>\n",
       "      <td>s7384</td>\n",
       "      <td>TV Show</td>\n",
       "      <td>Vai Anitta</td>\n",
       "      <td>NaN</td>\n",
       "      <td>Anitta</td>\n",
       "      <td>Brazil</td>\n",
       "      <td>November 16, 2018</td>\n",
       "      <td>2018</td>\n",
       "      <td>TV-MA</td>\n",
       "      <td>1 Season</td>\n",
       "      <td>Docuseries, International TV Shows, Reality TV</td>\n",
       "      <td>Go behind the scenes with Brazilian pop icon A...</td>\n",
       "    </tr>\n",
       "    <tr>\n",
       "      <th>7698</th>\n",
       "      <td>s7699</td>\n",
       "      <td>TV Show</td>\n",
       "      <td>Yankee</td>\n",
       "      <td>NaN</td>\n",
       "      <td>Pablo Lyle, Ana Layevska, Leonardo Daniel, Jav...</td>\n",
       "      <td>Mexico</td>\n",
       "      <td>June 14, 2019</td>\n",
       "      <td>2019</td>\n",
       "      <td>TV-MA</td>\n",
       "      <td>1 Season</td>\n",
       "      <td>Crime TV Shows, International TV Shows, Spanis...</td>\n",
       "      <td>On the run from the police, an Arizona man cro...</td>\n",
       "    </tr>\n",
       "    <tr>\n",
       "      <th>7725</th>\n",
       "      <td>s7726</td>\n",
       "      <td>TV Show</td>\n",
       "      <td>You Cannot Hide</td>\n",
       "      <td>NaN</td>\n",
       "      <td>Blanca Soto, Eduardo Noriega, Iván Sánchez, Ma...</td>\n",
       "      <td>Mexico</td>\n",
       "      <td>October 1, 2020</td>\n",
       "      <td>2020</td>\n",
       "      <td>TV-MA</td>\n",
       "      <td>1 Season</td>\n",
       "      <td>Crime TV Shows, International TV Shows, Spanis...</td>\n",
       "      <td>A nurse and her daughter flee her husband’s dr...</td>\n",
       "    </tr>\n",
       "    <tr>\n",
       "      <th>7756</th>\n",
       "      <td>s7757</td>\n",
       "      <td>TV Show</td>\n",
       "      <td>Z4</td>\n",
       "      <td>NaN</td>\n",
       "      <td>Apollo Costa, Gabriel Santana, Matheus Lustosa...</td>\n",
       "      <td>Brazil</td>\n",
       "      <td>February 22, 2019</td>\n",
       "      <td>2018</td>\n",
       "      <td>TV-PG</td>\n",
       "      <td>2 Seasons</td>\n",
       "      <td>Kids' TV</td>\n",
       "      <td>Fading music biz veteran Zé realizes he has ju...</td>\n",
       "    </tr>\n",
       "    <tr>\n",
       "      <th>7779</th>\n",
       "      <td>s7780</td>\n",
       "      <td>TV Show</td>\n",
       "      <td>Zona Rosa</td>\n",
       "      <td>NaN</td>\n",
       "      <td>Manu NNa, Ana Julia Yeyé, Ray Contreras, Pablo...</td>\n",
       "      <td>Mexico</td>\n",
       "      <td>November 26, 2019</td>\n",
       "      <td>2019</td>\n",
       "      <td>TV-MA</td>\n",
       "      <td>1 Season</td>\n",
       "      <td>International TV Shows, Spanish-Language TV Sh...</td>\n",
       "      <td>An assortment of talent takes the stage for a ...</td>\n",
       "    </tr>\n",
       "  </tbody>\n",
       "</table>\n",
       "<p>77 rows × 12 columns</p>\n",
       "</div>"
      ],
      "text/plain": [
       "     show_id     type                title              director  \\\n",
       "0         s1  TV Show                   3%                   NaN   \n",
       "12       s13  TV Show                 1994  Diego Enrique Osorno   \n",
       "218     s219  TV Show      A Queen Is Born          Carla Barros   \n",
       "322     s323  TV Show  Afronta! Facing It!       Juliana Vicente   \n",
       "426     s427  TV Show         Almost Happy     Hernán Guerschuny   \n",
       "...      ...      ...                  ...                   ...   \n",
       "7383   s7384  TV Show           Vai Anitta                   NaN   \n",
       "7698   s7699  TV Show               Yankee                   NaN   \n",
       "7725   s7726  TV Show      You Cannot Hide                   NaN   \n",
       "7756   s7757  TV Show                   Z4                   NaN   \n",
       "7779   s7780  TV Show            Zona Rosa                   NaN   \n",
       "\n",
       "                                                   cast    country  \\\n",
       "0     João Miguel, Bianca Comparato, Michel Gomes, R...     Brazil   \n",
       "12                                                  NaN     Mexico   \n",
       "218                       Gloria Groove, Alexia Twister     Brazil   \n",
       "322   Loo Nascimento, Ingrid Silva, Rincon Sapiência...     Brazil   \n",
       "426   Sebastián Wainraich, Natalie Pérez, Santiago K...  Argentina   \n",
       "...                                                 ...        ...   \n",
       "7383                                             Anitta     Brazil   \n",
       "7698  Pablo Lyle, Ana Layevska, Leonardo Daniel, Jav...     Mexico   \n",
       "7725  Blanca Soto, Eduardo Noriega, Iván Sánchez, Ma...     Mexico   \n",
       "7756  Apollo Costa, Gabriel Santana, Matheus Lustosa...     Brazil   \n",
       "7779  Manu NNa, Ana Julia Yeyé, Ray Contreras, Pablo...     Mexico   \n",
       "\n",
       "             date_added  release_year rating   duration  \\\n",
       "0       August 14, 2020          2020  TV-MA  4 Seasons   \n",
       "12         May 17, 2019          2019  TV-MA   1 Season   \n",
       "218   November 11, 2020          2020  TV-14   1 Season   \n",
       "322    October 31, 2020          2017  TV-PG   1 Season   \n",
       "426         May 2, 2020          2020  TV-MA   1 Season   \n",
       "...                 ...           ...    ...        ...   \n",
       "7383  November 16, 2018          2018  TV-MA   1 Season   \n",
       "7698      June 14, 2019          2019  TV-MA   1 Season   \n",
       "7725    October 1, 2020          2020  TV-MA   1 Season   \n",
       "7756  February 22, 2019          2018  TV-PG  2 Seasons   \n",
       "7779  November 26, 2019          2019  TV-MA   1 Season   \n",
       "\n",
       "                                              listed_in  \\\n",
       "0     International TV Shows, TV Dramas, TV Sci-Fi &...   \n",
       "12    Crime TV Shows, Docuseries, International TV S...   \n",
       "218                  International TV Shows, Reality TV   \n",
       "322                  Docuseries, International TV Shows   \n",
       "426   International TV Shows, Spanish-Language TV Sh...   \n",
       "...                                                 ...   \n",
       "7383     Docuseries, International TV Shows, Reality TV   \n",
       "7698  Crime TV Shows, International TV Shows, Spanis...   \n",
       "7725  Crime TV Shows, International TV Shows, Spanis...   \n",
       "7756                                           Kids' TV   \n",
       "7779  International TV Shows, Spanish-Language TV Sh...   \n",
       "\n",
       "                                            description  \n",
       "0     In a future where the elite inhabit an island ...  \n",
       "12    Archival video and new interviews examine Mexi...  \n",
       "218   Gloria Groove and Alexia Twister make drag dre...  \n",
       "322   This docuseries spotlights Afro-Brazilian thin...  \n",
       "426   Sebastián is a radio show host of modest fame,...  \n",
       "...                                                 ...  \n",
       "7383  Go behind the scenes with Brazilian pop icon A...  \n",
       "7698  On the run from the police, an Arizona man cro...  \n",
       "7725  A nurse and her daughter flee her husband’s dr...  \n",
       "7756  Fading music biz veteran Zé realizes he has ju...  \n",
       "7779  An assortment of talent takes the stage for a ...  \n",
       "\n",
       "[77 rows x 12 columns]"
      ]
     },
<<<<<<< HEAD
     "execution_count": 13,
=======
     "execution_count": 653,
>>>>>>> 0a90b8a2ee5cd9c1d53bb0121fe4896c18714b9c
     "metadata": {},
     "output_type": "execute_result"
    }
   ],
   "source": [
    "df_series"
   ]
  },
  {
   "cell_type": "code",
<<<<<<< HEAD
   "execution_count": 14,
=======
   "execution_count": 654,
>>>>>>> 0a90b8a2ee5cd9c1d53bb0121fe4896c18714b9c
   "metadata": {},
   "outputs": [
    {
     "data": {
      "text/plain": [
       "77"
      ]
     },
<<<<<<< HEAD
     "execution_count": 14,
=======
     "execution_count": 654,
>>>>>>> 0a90b8a2ee5cd9c1d53bb0121fe4896c18714b9c
     "metadata": {},
     "output_type": "execute_result"
    }
   ],
   "source": [
    "df_series['show_id'].unique().shape[0]"
   ]
  },
  {
   "cell_type": "markdown",
   "metadata": {},
   "source": [
    "### 4-Listar quantos filmes são exclusivamente: brasileiros, argentinos, mexicanos e uruguaios."
   ]
  },
  {
   "cell_type": "code",
<<<<<<< HEAD
   "execution_count": 15,
=======
   "execution_count": 655,
>>>>>>> 0a90b8a2ee5cd9c1d53bb0121fe4896c18714b9c
   "metadata": {},
   "outputs": [],
   "source": [
    "df2=df2[df2['type']=='Movie']"
   ]
  },
  {
   "cell_type": "code",
<<<<<<< HEAD
   "execution_count": 16,
=======
   "execution_count": 656,
>>>>>>> 0a90b8a2ee5cd9c1d53bb0121fe4896c18714b9c
   "metadata": {},
   "outputs": [],
   "source": [
    "lista_paises=list(df2['country'].unique())"
   ]
  },
  {
   "cell_type": "code",
<<<<<<< HEAD
   "execution_count": 17,
=======
   "execution_count": 657,
>>>>>>> 0a90b8a2ee5cd9c1d53bb0121fe4896c18714b9c
   "metadata": {},
   "outputs": [
    {
     "data": {
      "text/plain": [
       "['Mexico', 'Argentina', 'Brazil', 'Uruguay']"
      ]
     },
<<<<<<< HEAD
     "execution_count": 17,
=======
     "execution_count": 657,
>>>>>>> 0a90b8a2ee5cd9c1d53bb0121fe4896c18714b9c
     "metadata": {},
     "output_type": "execute_result"
    }
   ],
   "source": [
    "lista_paises"
   ]
  },
  {
   "cell_type": "code",
<<<<<<< HEAD
   "execution_count": 18,
=======
   "execution_count": 658,
>>>>>>> 0a90b8a2ee5cd9c1d53bb0121fe4896c18714b9c
   "metadata": {},
   "outputs": [],
   "source": [
    "filmes=sorted([(df2[df2['country']==pais].shape[0],pais) for pais in lista_paises])"
   ]
  },
  {
   "cell_type": "code",
<<<<<<< HEAD
   "execution_count": 19,
=======
   "execution_count": 659,
>>>>>>> 0a90b8a2ee5cd9c1d53bb0121fe4896c18714b9c
   "metadata": {},
   "outputs": [
    {
     "data": {
      "text/plain": [
       "[(3, 'Uruguay'), (34, 'Argentina'), (46, 'Brazil'), (65, 'Mexico')]"
      ]
     },
<<<<<<< HEAD
     "execution_count": 19,
=======
     "execution_count": 659,
>>>>>>> 0a90b8a2ee5cd9c1d53bb0121fe4896c18714b9c
     "metadata": {},
     "output_type": "execute_result"
    }
   ],
   "source": [
    "filmes"
   ]
  },
  {
   "cell_type": "code",
<<<<<<< HEAD
   "execution_count": 20,
=======
   "execution_count": 660,
>>>>>>> 0a90b8a2ee5cd9c1d53bb0121fe4896c18714b9c
   "metadata": {},
   "outputs": [
    {
     "data": {
      "text/plain": [
       "['show_id',\n",
       " 'type',\n",
       " 'title',\n",
       " 'director',\n",
       " 'cast',\n",
       " 'country',\n",
       " 'date_added',\n",
       " 'release_year',\n",
       " 'rating',\n",
       " 'duration',\n",
       " 'listed_in',\n",
       " 'description']"
      ]
     },
<<<<<<< HEAD
     "execution_count": 20,
=======
     "execution_count": 660,
>>>>>>> 0a90b8a2ee5cd9c1d53bb0121fe4896c18714b9c
     "metadata": {},
     "output_type": "execute_result"
    }
   ],
   "source": [
    "list(df1.keys())"
   ]
  },
  {
   "cell_type": "code",
<<<<<<< HEAD
   "execution_count": 21,
=======
   "execution_count": 661,
>>>>>>> 0a90b8a2ee5cd9c1d53bb0121fe4896c18714b9c
   "metadata": {},
   "outputs": [],
   "source": [
    "df1=elimina_nan(df1,list(df1.keys())[5])"
   ]
  },
  {
   "cell_type": "code",
<<<<<<< HEAD
   "execution_count": 22,
=======
   "execution_count": 662,
>>>>>>> 0a90b8a2ee5cd9c1d53bb0121fe4896c18714b9c
   "metadata": {},
   "outputs": [
    {
     "data": {
      "text/html": [
       "<div>\n",
       "<style scoped>\n",
       "    .dataframe tbody tr th:only-of-type {\n",
       "        vertical-align: middle;\n",
       "    }\n",
       "\n",
       "    .dataframe tbody tr th {\n",
       "        vertical-align: top;\n",
       "    }\n",
       "\n",
       "    .dataframe thead th {\n",
       "        text-align: right;\n",
       "    }\n",
       "</style>\n",
       "<table border=\"1\" class=\"dataframe\">\n",
       "  <thead>\n",
       "    <tr style=\"text-align: right;\">\n",
       "      <th></th>\n",
       "      <th>show_id</th>\n",
       "      <th>type</th>\n",
       "      <th>title</th>\n",
       "      <th>director</th>\n",
       "      <th>cast</th>\n",
       "      <th>country</th>\n",
       "      <th>date_added</th>\n",
       "      <th>release_year</th>\n",
       "      <th>rating</th>\n",
       "      <th>duration</th>\n",
       "      <th>listed_in</th>\n",
       "      <th>description</th>\n",
       "    </tr>\n",
       "  </thead>\n",
       "  <tbody>\n",
       "    <tr>\n",
       "      <th>0</th>\n",
       "      <td>s1</td>\n",
       "      <td>TV Show</td>\n",
       "      <td>3%</td>\n",
       "      <td>NaN</td>\n",
       "      <td>João Miguel, Bianca Comparato, Michel Gomes, R...</td>\n",
       "      <td>Brazil</td>\n",
       "      <td>August 14, 2020</td>\n",
       "      <td>2020</td>\n",
       "      <td>TV-MA</td>\n",
       "      <td>4 Seasons</td>\n",
       "      <td>International TV Shows, TV Dramas, TV Sci-Fi &amp;...</td>\n",
       "      <td>In a future where the elite inhabit an island ...</td>\n",
       "    </tr>\n",
       "    <tr>\n",
       "      <th>1</th>\n",
       "      <td>s209</td>\n",
       "      <td>Movie</td>\n",
       "      <td>A new Capitalism</td>\n",
       "      <td>NaN</td>\n",
       "      <td>NaN</td>\n",
       "      <td>Brazil</td>\n",
       "      <td>June 12, 2018</td>\n",
       "      <td>2017</td>\n",
       "      <td>TV-14</td>\n",
       "      <td>76 min</td>\n",
       "      <td>Documentaries, International Movies</td>\n",
       "      <td>Entrepreneurs worldwide explore alternatives t...</td>\n",
       "    </tr>\n",
       "    <tr>\n",
       "      <th>2</th>\n",
       "      <td>s219</td>\n",
       "      <td>TV Show</td>\n",
       "      <td>A Queen Is Born</td>\n",
       "      <td>Carla Barros</td>\n",
       "      <td>Gloria Groove, Alexia Twister</td>\n",
       "      <td>Brazil</td>\n",
       "      <td>November 11, 2020</td>\n",
       "      <td>2020</td>\n",
       "      <td>TV-14</td>\n",
       "      <td>1 Season</td>\n",
       "      <td>International TV Shows, Reality TV</td>\n",
       "      <td>Gloria Groove and Alexia Twister make drag dre...</td>\n",
       "    </tr>\n",
       "    <tr>\n",
       "      <th>3</th>\n",
       "      <td>s231</td>\n",
       "      <td>Movie</td>\n",
       "      <td>A Sort of Family</td>\n",
       "      <td>Diego Lerman</td>\n",
       "      <td>Bárbara Lennie, Daniel Aráoz, Claudio Tolcachi...</td>\n",
       "      <td>Argentina, Brazil, France, Poland, Germany, De...</td>\n",
       "      <td>April 1, 2018</td>\n",
       "      <td>2017</td>\n",
       "      <td>TV-14</td>\n",
       "      <td>96 min</td>\n",
       "      <td>Dramas, International Movies, Thrillers</td>\n",
       "      <td>An Argentine doctor faces legal and ethical ch...</td>\n",
       "    </tr>\n",
       "    <tr>\n",
       "      <th>4</th>\n",
       "      <td>s321</td>\n",
       "      <td>Movie</td>\n",
       "      <td>Afonso Padilha: Classless</td>\n",
       "      <td>Junior Carelli, Rudge Campos</td>\n",
       "      <td>Afonso Padilha</td>\n",
       "      <td>Brazil</td>\n",
       "      <td>September 3, 2020</td>\n",
       "      <td>2020</td>\n",
       "      <td>TV-MA</td>\n",
       "      <td>63 min</td>\n",
       "      <td>Stand-Up Comedy</td>\n",
       "      <td>Brazilian comedian Afonso Padilha dives into h...</td>\n",
       "    </tr>\n",
       "    <tr>\n",
       "      <th>...</th>\n",
       "      <td>...</td>\n",
       "      <td>...</td>\n",
       "      <td>...</td>\n",
       "      <td>...</td>\n",
       "      <td>...</td>\n",
       "      <td>...</td>\n",
       "      <td>...</td>\n",
       "      <td>...</td>\n",
       "      <td>...</td>\n",
       "      <td>...</td>\n",
       "      <td>...</td>\n",
       "      <td>...</td>\n",
       "    </tr>\n",
       "    <tr>\n",
       "      <th>83</th>\n",
       "      <td>s7384</td>\n",
       "      <td>TV Show</td>\n",
       "      <td>Vai Anitta</td>\n",
       "      <td>NaN</td>\n",
       "      <td>Anitta</td>\n",
       "      <td>Brazil</td>\n",
       "      <td>November 16, 2018</td>\n",
       "      <td>2018</td>\n",
       "      <td>TV-MA</td>\n",
       "      <td>1 Season</td>\n",
       "      <td>Docuseries, International TV Shows, Reality TV</td>\n",
       "      <td>Go behind the scenes with Brazilian pop icon A...</td>\n",
       "    </tr>\n",
       "    <tr>\n",
       "      <th>84</th>\n",
       "      <td>s7488</td>\n",
       "      <td>Movie</td>\n",
       "      <td>Wasp Network</td>\n",
       "      <td>Olivier Assayas</td>\n",
       "      <td>Penélope Cruz, Edgar Ramírez, Wagner Moura, Ga...</td>\n",
       "      <td>France, Brazil, Spain, Belgium</td>\n",
       "      <td>June 19, 2020</td>\n",
       "      <td>2020</td>\n",
       "      <td>TV-MA</td>\n",
       "      <td>128 min</td>\n",
       "      <td>Dramas, International Movies, Thrillers</td>\n",
       "      <td>Based on a true and gripping story: Cuban spie...</td>\n",
       "    </tr>\n",
       "    <tr>\n",
       "      <th>85</th>\n",
       "      <td>s7492</td>\n",
       "      <td>Movie</td>\n",
       "      <td>Waterschool</td>\n",
       "      <td>Tiffanie Hsu</td>\n",
       "      <td>NaN</td>\n",
       "      <td>United States, Brazil, India, Uganda, China</td>\n",
       "      <td>July 25, 2018</td>\n",
       "      <td>2018</td>\n",
       "      <td>TV-G</td>\n",
       "      <td>68 min</td>\n",
       "      <td>Documentaries</td>\n",
       "      <td>Six young women, who each live near one of Ear...</td>\n",
       "    </tr>\n",
       "    <tr>\n",
       "      <th>86</th>\n",
       "      <td>s7591</td>\n",
       "      <td>Movie</td>\n",
       "      <td>Whindersson Nunes: Adult</td>\n",
       "      <td>Diego Pignataro</td>\n",
       "      <td>Whindersson Nunes</td>\n",
       "      <td>Brazil</td>\n",
       "      <td>August 15, 2019</td>\n",
       "      <td>2019</td>\n",
       "      <td>TV-MA</td>\n",
       "      <td>69 min</td>\n",
       "      <td>Stand-Up Comedy</td>\n",
       "      <td>Brazilian YouTube sensation Whindersson Nunes ...</td>\n",
       "    </tr>\n",
       "    <tr>\n",
       "      <th>87</th>\n",
       "      <td>s7757</td>\n",
       "      <td>TV Show</td>\n",
       "      <td>Z4</td>\n",
       "      <td>NaN</td>\n",
       "      <td>Apollo Costa, Gabriel Santana, Matheus Lustosa...</td>\n",
       "      <td>Brazil</td>\n",
       "      <td>February 22, 2019</td>\n",
       "      <td>2018</td>\n",
       "      <td>TV-PG</td>\n",
       "      <td>2 Seasons</td>\n",
       "      <td>Kids' TV</td>\n",
       "      <td>Fading music biz veteran Zé realizes he has ju...</td>\n",
       "    </tr>\n",
       "  </tbody>\n",
       "</table>\n",
       "<p>88 rows × 12 columns</p>\n",
       "</div>"
      ],
      "text/plain": [
       "   show_id     type                      title                      director  \\\n",
       "0       s1  TV Show                         3%                           NaN   \n",
       "1     s209    Movie           A new Capitalism                           NaN   \n",
       "2     s219  TV Show            A Queen Is Born                  Carla Barros   \n",
       "3     s231    Movie           A Sort of Family                  Diego Lerman   \n",
       "4     s321    Movie  Afonso Padilha: Classless  Junior Carelli, Rudge Campos   \n",
       "..     ...      ...                        ...                           ...   \n",
       "83   s7384  TV Show                 Vai Anitta                           NaN   \n",
       "84   s7488    Movie               Wasp Network               Olivier Assayas   \n",
       "85   s7492    Movie                Waterschool                  Tiffanie Hsu   \n",
       "86   s7591    Movie   Whindersson Nunes: Adult               Diego Pignataro   \n",
       "87   s7757  TV Show                         Z4                           NaN   \n",
       "\n",
       "                                                 cast  \\\n",
       "0   João Miguel, Bianca Comparato, Michel Gomes, R...   \n",
       "1                                                 NaN   \n",
       "2                       Gloria Groove, Alexia Twister   \n",
       "3   Bárbara Lennie, Daniel Aráoz, Claudio Tolcachi...   \n",
       "4                                      Afonso Padilha   \n",
       "..                                                ...   \n",
       "83                                             Anitta   \n",
       "84  Penélope Cruz, Edgar Ramírez, Wagner Moura, Ga...   \n",
       "85                                                NaN   \n",
       "86                                  Whindersson Nunes   \n",
       "87  Apollo Costa, Gabriel Santana, Matheus Lustosa...   \n",
       "\n",
       "                                              country         date_added  \\\n",
       "0                                              Brazil    August 14, 2020   \n",
       "1                                              Brazil      June 12, 2018   \n",
       "2                                              Brazil  November 11, 2020   \n",
       "3   Argentina, Brazil, France, Poland, Germany, De...      April 1, 2018   \n",
       "4                                              Brazil  September 3, 2020   \n",
       "..                                                ...                ...   \n",
       "83                                             Brazil  November 16, 2018   \n",
       "84                     France, Brazil, Spain, Belgium      June 19, 2020   \n",
       "85        United States, Brazil, India, Uganda, China      July 25, 2018   \n",
       "86                                             Brazil    August 15, 2019   \n",
       "87                                             Brazil  February 22, 2019   \n",
       "\n",
       "    release_year rating   duration  \\\n",
       "0           2020  TV-MA  4 Seasons   \n",
       "1           2017  TV-14     76 min   \n",
       "2           2020  TV-14   1 Season   \n",
       "3           2017  TV-14     96 min   \n",
       "4           2020  TV-MA     63 min   \n",
       "..           ...    ...        ...   \n",
       "83          2018  TV-MA   1 Season   \n",
       "84          2020  TV-MA    128 min   \n",
       "85          2018   TV-G     68 min   \n",
       "86          2019  TV-MA     69 min   \n",
       "87          2018  TV-PG  2 Seasons   \n",
       "\n",
       "                                            listed_in  \\\n",
       "0   International TV Shows, TV Dramas, TV Sci-Fi &...   \n",
       "1                 Documentaries, International Movies   \n",
       "2                  International TV Shows, Reality TV   \n",
       "3             Dramas, International Movies, Thrillers   \n",
       "4                                     Stand-Up Comedy   \n",
       "..                                                ...   \n",
       "83     Docuseries, International TV Shows, Reality TV   \n",
       "84            Dramas, International Movies, Thrillers   \n",
       "85                                      Documentaries   \n",
       "86                                    Stand-Up Comedy   \n",
       "87                                           Kids' TV   \n",
       "\n",
       "                                          description  \n",
       "0   In a future where the elite inhabit an island ...  \n",
       "1   Entrepreneurs worldwide explore alternatives t...  \n",
       "2   Gloria Groove and Alexia Twister make drag dre...  \n",
       "3   An Argentine doctor faces legal and ethical ch...  \n",
       "4   Brazilian comedian Afonso Padilha dives into h...  \n",
       "..                                                ...  \n",
       "83  Go behind the scenes with Brazilian pop icon A...  \n",
       "84  Based on a true and gripping story: Cuban spie...  \n",
       "85  Six young women, who each live near one of Ear...  \n",
       "86  Brazilian YouTube sensation Whindersson Nunes ...  \n",
       "87  Fading music biz veteran Zé realizes he has ju...  \n",
       "\n",
       "[88 rows x 12 columns]"
      ]
     },
<<<<<<< HEAD
     "execution_count": 22,
=======
     "execution_count": 662,
>>>>>>> 0a90b8a2ee5cd9c1d53bb0121fe4896c18714b9c
     "metadata": {},
     "output_type": "execute_result"
    }
   ],
   "source": [
    "df_novo"
   ]
  },
  {
   "cell_type": "markdown",
   "metadata": {},
   "source": [
    "### 8-Listar o diretor brasileiro com mais recorrências em todas as categorias"
   ]
  },
  {
   "cell_type": "code",
<<<<<<< HEAD
   "execution_count": 23,
=======
   "execution_count": 663,
>>>>>>> 0a90b8a2ee5cd9c1d53bb0121fe4896c18714b9c
   "metadata": {},
   "outputs": [],
   "source": [
    "ls=df1[df1['country']=='Brazil']['director']"
   ]
  },
  {
   "cell_type": "code",
<<<<<<< HEAD
   "execution_count": 24,
=======
   "execution_count": 664,
>>>>>>> 0a90b8a2ee5cd9c1d53bb0121fe4896c18714b9c
   "metadata": {},
   "outputs": [
    {
     "data": {
      "text/plain": [
       "0                                 NaN\n",
       "199                               NaN\n",
       "209                      Carla Barros\n",
       "310      Junior Carelli, Rudge Campos\n",
       "312                   Juliana Vicente\n",
       "                    ...              \n",
       "6219                              NaN\n",
       "6593    Fabio Ock, Joana Mazzucchelli\n",
       "6900                              NaN\n",
       "7097                  Diego Pignataro\n",
       "7252                              NaN\n",
       "Name: director, Length: 72, dtype: object"
      ]
     },
<<<<<<< HEAD
     "execution_count": 24,
=======
     "execution_count": 664,
>>>>>>> 0a90b8a2ee5cd9c1d53bb0121fe4896c18714b9c
     "metadata": {},
     "output_type": "execute_result"
    }
   ],
   "source": [
    "ls"
   ]
  },
  {
   "cell_type": "code",
<<<<<<< HEAD
   "execution_count": 25,
=======
   "execution_count": 665,
>>>>>>> 0a90b8a2ee5cd9c1d53bb0121fe4896c18714b9c
   "metadata": {},
   "outputs": [
    {
     "data": {
      "text/plain": [
       "72"
      ]
     },
<<<<<<< HEAD
     "execution_count": 25,
=======
     "execution_count": 665,
>>>>>>> 0a90b8a2ee5cd9c1d53bb0121fe4896c18714b9c
     "metadata": {},
     "output_type": "execute_result"
    }
   ],
   "source": [
    "ls.shape[0]"
   ]
  },
  {
   "cell_type": "code",
<<<<<<< HEAD
   "execution_count": 26,
=======
   "execution_count": 666,
>>>>>>> 0a90b8a2ee5cd9c1d53bb0121fe4896c18714b9c
   "metadata": {},
   "outputs": [
    {
     "data": {
      "text/plain": [
       "array([nan, 'Carla Barros', 'Junior Carelli, Rudge Campos',\n",
       "       'Juliana Vicente', 'Gil Baroni', 'Pedro Coutinho', 'Matheus Souza',\n",
       "       'Andrucha Waddington, Pedro Waddington', 'José Eduardo Belmonte',\n",
       "       'Alê Abreu', 'Marcelo Galvão', 'Guilherme Fontes',\n",
       "       'Cavi Borges, Luciano Vidigal', 'Alexandre Reinecke',\n",
       "       'Cassia Dian', 'Bruno Garotti', \"Cris D'Amato\", 'Halder Gomes',\n",
       "       'Diego Pignataro', 'Célia Catunda, Kiko Mistrorigo, Rodrigo Eba',\n",
       "       'Luis Ara', 'Lô Politi', 'Roberto Santucci', 'Wagner de Assis',\n",
       "       'Lygia Barbosa da Silva, Eliane Brum', 'Fernando Ayllón',\n",
       "       'Anita Barbosa', 'Lucas Margutti', 'Caio Cobra',\n",
       "       'Alexandre Avancini', 'Marco Dutra', \"André D'Elia\",\n",
       "       'Tomas Portella', 'Monique Gardenberg', 'Raphael Erichsen',\n",
       "       'Afonso Poyart', 'Renata Terra', 'Estela Renner',\n",
       "       'Michel Tikhomiroff', 'Petra Costa', 'Rodrigo Van Der Put',\n",
       "       'Fabio Ock, Joana Mazzucchelli'], dtype=object)"
      ]
     },
<<<<<<< HEAD
     "execution_count": 26,
=======
     "execution_count": 666,
>>>>>>> 0a90b8a2ee5cd9c1d53bb0121fe4896c18714b9c
     "metadata": {},
     "output_type": "execute_result"
    }
   ],
   "source": [
    "ls.unique()"
   ]
  },
  {
   "cell_type": "markdown",
   "metadata": {},
   "source": [
    "##### Como não eliminamos as entradas NaN , elas entraram na contagem do método .unique()"
   ]
  },
  {
   "cell_type": "code",
<<<<<<< HEAD
   "execution_count": 27,
=======
   "execution_count": 667,
>>>>>>> 0a90b8a2ee5cd9c1d53bb0121fe4896c18714b9c
   "metadata": {},
   "outputs": [
    {
     "data": {
      "text/plain": [
       "['show_id',\n",
       " 'type',\n",
       " 'title',\n",
       " 'director',\n",
       " 'cast',\n",
       " 'country',\n",
       " 'date_added',\n",
       " 'release_year',\n",
       " 'rating',\n",
       " 'duration',\n",
       " 'listed_in',\n",
       " 'description']"
      ]
     },
<<<<<<< HEAD
     "execution_count": 27,
=======
     "execution_count": 667,
>>>>>>> 0a90b8a2ee5cd9c1d53bb0121fe4896c18714b9c
     "metadata": {},
     "output_type": "execute_result"
    }
   ],
   "source": [
    "list(df1.keys())"
   ]
  },
  {
   "cell_type": "code",
<<<<<<< HEAD
   "execution_count": 28,
=======
   "execution_count": 668,
>>>>>>> 0a90b8a2ee5cd9c1d53bb0121fe4896c18714b9c
   "metadata": {},
   "outputs": [],
   "source": [
    "feature=list(df1.keys())[3]"
   ]
  },
  {
   "cell_type": "code",
<<<<<<< HEAD
   "execution_count": 29,
=======
   "execution_count": 669,
>>>>>>> 0a90b8a2ee5cd9c1d53bb0121fe4896c18714b9c
   "metadata": {},
   "outputs": [
    {
     "data": {
      "text/plain": [
       "'director'"
      ]
     },
<<<<<<< HEAD
     "execution_count": 29,
=======
     "execution_count": 669,
>>>>>>> 0a90b8a2ee5cd9c1d53bb0121fe4896c18714b9c
     "metadata": {},
     "output_type": "execute_result"
    }
   ],
   "source": [
    "feature"
   ]
  },
  {
   "cell_type": "code",
<<<<<<< HEAD
   "execution_count": 30,
=======
   "execution_count": 670,
>>>>>>> 0a90b8a2ee5cd9c1d53bb0121fe4896c18714b9c
   "metadata": {},
   "outputs": [],
   "source": [
    "df3=df1.copy()"
   ]
  },
  {
   "cell_type": "code",
<<<<<<< HEAD
   "execution_count": 31,
=======
   "execution_count": 671,
>>>>>>> 0a90b8a2ee5cd9c1d53bb0121fe4896c18714b9c
   "metadata": {},
   "outputs": [
    {
     "data": {
      "text/plain": [
       "0                     NaN\n",
       "1       Jorge Michel Grau\n",
       "2            Gilbert Chan\n",
       "3             Shane Acker\n",
       "4          Robert Luketic\n",
       "              ...        \n",
       "7275         Peter Hewitt\n",
       "7276          Josef Fares\n",
       "7277          Mozez Singh\n",
       "7278                  NaN\n",
       "7279             Sam Dunn\n",
       "Name: director, Length: 7280, dtype: object"
      ]
     },
<<<<<<< HEAD
     "execution_count": 31,
=======
     "execution_count": 671,
>>>>>>> 0a90b8a2ee5cd9c1d53bb0121fe4896c18714b9c
     "metadata": {},
     "output_type": "execute_result"
    }
   ],
   "source": [
    "df3[feature]"
   ]
  },
  {
   "cell_type": "markdown",
   "metadata": {},
   "source": [
    "#### Acessar diretamente"
   ]
  },
  {
   "cell_type": "code",
<<<<<<< HEAD
   "execution_count": 32,
=======
   "execution_count": 672,
>>>>>>> 0a90b8a2ee5cd9c1d53bb0121fe4896c18714b9c
   "metadata": {},
   "outputs": [
    {
     "data": {
      "text/plain": [
       "'director'"
      ]
     },
<<<<<<< HEAD
     "execution_count": 32,
=======
     "execution_count": 672,
>>>>>>> 0a90b8a2ee5cd9c1d53bb0121fe4896c18714b9c
     "metadata": {},
     "output_type": "execute_result"
    }
   ],
   "source": [
    "df3.columns[3]"
   ]
  },
  {
   "cell_type": "code",
<<<<<<< HEAD
   "execution_count": 33,
=======
   "execution_count": 673,
>>>>>>> 0a90b8a2ee5cd9c1d53bb0121fe4896c18714b9c
   "metadata": {},
   "outputs": [],
   "source": [
    "df3=df3[df3['country']=='Brazil']"
   ]
  },
  {
   "cell_type": "code",
<<<<<<< HEAD
   "execution_count": 34,
=======
   "execution_count": 674,
>>>>>>> 0a90b8a2ee5cd9c1d53bb0121fe4896c18714b9c
   "metadata": {},
   "outputs": [],
   "source": [
    "df3=elimina_nan(df3,feature)"
   ]
  },
  {
   "cell_type": "code",
<<<<<<< HEAD
   "execution_count": 36,
=======
   "execution_count": 675,
>>>>>>> 0a90b8a2ee5cd9c1d53bb0121fe4896c18714b9c
   "metadata": {},
   "outputs": [
    {
     "data": {
      "text/plain": [
       "41"
      ]
     },
<<<<<<< HEAD
     "execution_count": 36,
=======
     "execution_count": 675,
>>>>>>> 0a90b8a2ee5cd9c1d53bb0121fe4896c18714b9c
     "metadata": {},
     "output_type": "execute_result"
    }
   ],
   "source": [
    "df3['director'].unique().shape[0]"
   ]
  },
  {
   "cell_type": "code",
<<<<<<< HEAD
   "execution_count": 37,
=======
   "execution_count": 676,
>>>>>>> 0a90b8a2ee5cd9c1d53bb0121fe4896c18714b9c
   "metadata": {},
   "outputs": [],
   "source": [
    "maior=sorted([(df3[df3['director']==diretor].shape[0],diretor) for diretor in df3['director'].unique()],reverse=True)\n",
    "#Gera uma lista de tuplas"
   ]
  },
  {
   "cell_type": "code",
<<<<<<< HEAD
   "execution_count": 38,
=======
   "execution_count": 685,
>>>>>>> 0a90b8a2ee5cd9c1d53bb0121fe4896c18714b9c
   "metadata": {},
   "outputs": [
    {
     "name": "stdout",
     "output_type": "stream",
     "text": [
      "(3, 'Lucas Margutti')\n",
      "(3, 'Diego Pignataro')\n"
     ]
    }
   ],
   "source": [
    "for i,tup in enumerate(maior):\n",
    "    if(maior[i][0]==maior[0][0]):\n",
    "        print(maior[i])"
   ]
  },
  {
   "cell_type": "code",
<<<<<<< HEAD
   "execution_count": 39,
=======
   "execution_count": 689,
>>>>>>> 0a90b8a2ee5cd9c1d53bb0121fe4896c18714b9c
   "metadata": {},
   "outputs": [],
   "source": [
    "dic=dict(maior)\n",
    "valor=dic.get(maior[0][0])"
   ]
  },
  {
   "cell_type": "code",
<<<<<<< HEAD
   "execution_count": 40,
=======
   "execution_count": 690,
>>>>>>> 0a90b8a2ee5cd9c1d53bb0121fe4896c18714b9c
   "metadata": {},
   "outputs": [
    {
     "data": {
      "text/plain": [
       "'Diego Pignataro'"
      ]
     },
<<<<<<< HEAD
     "execution_count": 40,
=======
     "execution_count": 690,
>>>>>>> 0a90b8a2ee5cd9c1d53bb0121fe4896c18714b9c
     "metadata": {},
     "output_type": "execute_result"
    }
   ],
   "source": [
    "valor"
   ]
  },
  {
   "cell_type": "code",
<<<<<<< HEAD
   "execution_count": 42,
   "metadata": {},
   "outputs": [
    {
     "data": {
      "text/plain": [
       "Diego Pignataro                                3\n",
       "Lucas Margutti                                 3\n",
       "Rodrigo Van Der Put                            2\n",
       "Alexandre Avancini                             2\n",
       "Marcelo Galvão                                 2\n",
       "Bruno Garotti                                  2\n",
       "Halder Gomes                                   1\n",
       "Tomas Portella                                 1\n",
       "Cris D'Amato                                   1\n",
       "Monique Gardenberg                             1\n",
       "Andrucha Waddington, Pedro Waddington          1\n",
       "Anita Barbosa                                  1\n",
       "Caio Cobra                                     1\n",
       "Michel Tikhomiroff                             1\n",
       "Cavi Borges, Luciano Vidigal                   1\n",
       "Juliana Vicente                                1\n",
       "José Eduardo Belmonte                          1\n",
       "André D'Elia                                   1\n",
       "Célia Catunda, Kiko Mistrorigo, Rodrigo Eba    1\n",
       "Pedro Coutinho                                 1\n",
       "Petra Costa                                    1\n",
       "Raphael Erichsen                               1\n",
       "Renata Terra                                   1\n",
       "Lygia Barbosa da Silva, Eliane Brum            1\n",
       "Luis Ara                                       1\n",
       "Alexandre Reinecke                             1\n",
       "Estela Renner                                  1\n",
       "Marco Dutra                                    1\n",
       "Gil Baroni                                     1\n",
       "Fernando Ayllón                                1\n",
       "Carla Barros                                   1\n",
       "Matheus Souza                                  1\n",
       "Cassia Dian                                    1\n",
       "Afonso Poyart                                  1\n",
       "Alê Abreu                                      1\n",
       "Roberto Santucci                               1\n",
       "Lô Politi                                      1\n",
       "Fabio Ock, Joana Mazzucchelli                  1\n",
       "Junior Carelli, Rudge Campos                   1\n",
       "Wagner de Assis                                1\n",
       "Guilherme Fontes                               1\n",
       "Name: director, dtype: int64"
      ]
     },
     "execution_count": 42,
     "metadata": {},
     "output_type": "execute_result"
    }
   ],
   "source": [
    "df3['director'].value_counts()\n",
    "#Dessa maneira é bem mais fácil"
   ]
  },
  {
   "cell_type": "code",
   "execution_count": 41,
=======
   "execution_count": null,
>>>>>>> 0a90b8a2ee5cd9c1d53bb0121fe4896c18714b9c
   "metadata": {},
   "outputs": [],
   "source": [
    "#Testando formas de iteração"
   ]
  }
 ],
 "metadata": {
  "kernelspec": {
   "display_name": "Python 3",
   "language": "python",
   "name": "python3"
  },
  "language_info": {
   "codemirror_mode": {
    "name": "ipython",
    "version": 3
   },
   "file_extension": ".py",
   "mimetype": "text/x-python",
   "name": "python",
   "nbconvert_exporter": "python",
   "pygments_lexer": "ipython3",
   "version": "3.8.5"
  }
 },
 "nbformat": 4,
 "nbformat_minor": 4
}
